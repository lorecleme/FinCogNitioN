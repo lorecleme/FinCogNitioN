{
 "cells": [
  {
   "cell_type": "markdown",
   "id": "5d6edf83",
   "metadata": {},
   "source": [
    "# FinCogNitioN"
   ]
  },
  {
   "cell_type": "markdown",
   "id": "f6acd6da",
   "metadata": {},
   "source": [
    "## Introduction\n",
    "\n",
    "The classification of cetacean species has posed a considerable challenge due to their vast morphological and ecological diversity. The present project aimed to categorize 30 species of whales and dolphins by examining the dorsal fin as it protrudes out of the water. It is worth noting that, akin to the human fingerprint, the dorsal fin of cetaceans is unique and can be used to identify individual cetacean species $^{[1]}$. The HappyWhale $^{[2]}$  dataset from Kaggle was utilized to train our models, providing us with three primary pieces of information: an image of the fin in the sea, the cetacean species, and individual IDs. More than one model was implemented to monitor our progress and evaluate the obtained outcomes. Our best algorithm developed entirely from scratch, achieved an accuracy of $x$, a test loss of $y$, and an average F1 score of $z$. Additionally, we attempted to fine-tune a VGG-16 model, resulting in an accuracy of $x$, a test loss of $y$, and an average F1 score of $z$. Our main hurdle was the dataset’s imbalanced nature, with the class possessing the most samples containing $x$ individuals, while the class with the fewest samples had only $y$ individuals. Despite this impediment, we were able to attain satisfactory results, thereby confirming our hypothesis that individual cetacean species can be discerned via analysis of their dorsal fin."
   ]
  },
  {
   "cell_type": "code",
   "execution_count": 18,
   "id": "2b6a7d98",
   "metadata": {},
   "outputs": [],
   "source": [
    "#import used libraries\n",
    "import seaborn as sns\n",
    "import torch\n",
    "import matplotlib.pyplot as plt\n",
    "import torch.nn as nn\n",
    "import torchvision\n",
    "from PIL import Image\n",
    "from torch import optim\n",
    "from torch.utils.data import Dataset, DataLoader\n",
    "import pandas as pd\n",
    "from glob import glob\n",
    "from torchvision import datasets, transforms, models\n",
    "from torchvision.datasets import ImageFolder\n",
    "import numpy as np\n",
    "from torchvision.transforms import transforms\n",
    "from torch.optim.lr_scheduler import ReduceLROnPlateau\n",
    "from numpy import *\n",
    "from tqdm import tqdm\n",
    "\n",
    "def plot_images_from_dataloader(dataloader, num_images=16):\n",
    "    # Create a figure with 4 rows and 4 columns\n",
    "    fig, axes = plt.subplots(4, 4, figsize=(10, 10))\n",
    "\n",
    "    # Plot images from the dataloader on each subplot\n",
    "    for i, (images, _) in enumerate(dataloader):\n",
    "        for j in range(4):\n",
    "            if i * 4 + j >= num_images:\n",
    "                break\n",
    "\n",
    "            ax = axes[i, j]\n",
    "            ax.imshow(images[j].permute(1, 2, 0))  # Permute dimensions for proper image display\n",
    "            ax.set_title(f'Image {i * 4 + j + 1}')\n",
    "            ax.axis('off')\n",
    "\n",
    "        if (i + 1) * 4 >= num_images:\n",
    "            break\n",
    "\n",
    "    # Adjust spacing between subplots\n",
    "    plt.tight_layout()\n",
    "\n",
    "    # Display the figure\n",
    "    plt.show()"
   ]
  },
  {
   "cell_type": "markdown",
   "id": "f49fb65a",
   "metadata": {},
   "source": [
    "## Dataset\n",
    "\n",
    "The present research utilized the HappyWhale Kaggle dataset, boasting a substantial 62.06 GB in size and comprising 50,133 images of cetaceans, each annotated with the respective species and individual IDs. Of note, this dataset is compiled from a collection of over 15,000 individual marine mammals belonging to 30 distinct species, obtained via 28 diverse research organizations. The integration of such data from a range of sources presented various logistical hurdles, such as discrepancies in image size and varied representations of both RGB and grayscale formats."
   ]
  },
  {
   "cell_type": "code",
   "execution_count": 34,
   "id": "f9e61241",
   "metadata": {},
   "outputs": [],
   "source": [
    "df = pd.read_csv('train.csv')\n",
    "df['species'] = df['species'].astype('category').cat.codes"
   ]
  },
  {
   "cell_type": "code",
   "execution_count": 35,
   "id": "b6e5cbfd",
   "metadata": {},
   "outputs": [],
   "source": [
    "categories = df['species'].value_counts().index\n",
    "n_samples = df['species'].value_counts().values"
   ]
  },
  {
   "cell_type": "code",
   "execution_count": 51,
   "id": "299a3bc3",
   "metadata": {},
   "outputs": [
    {
     "data": {
      "image/png": "[encoded data removed]",
      "text/plain": [
       "<Figure size 1080x432 with 1 Axes>"
      ]
     },
     "metadata": {
      "needs_background": "light"
     },
     "output_type": "display_data"
    }
   ],
   "source": [
    "# Create the figure\n",
    "fig, ax = plt.subplots(figsize=(15, 6))\n",
    "\n",
    "# Plot the countplot using Seaborn\n",
    "sns.barplot(x=categories, y=n_samples, ax=ax)\n",
    "\n",
    "# Set the title and labels\n",
    "ax.set_title('Sample Distribution by Category')\n",
    "ax.set_xlabel('Categories')\n",
    "ax.set_ylabel('Sample Count')\n",
    "\n",
    "# Customize the appearance\n",
    "sns.despine()\n",
    "\n",
    "# Show the plot\n",
    "plt.show()"
   ]
  },
  {
   "cell_type": "code",
   "execution_count": null,
   "id": "acd316b1",
   "metadata": {},
   "outputs": [],
   "source": [
    "#Load Dataset previously preprocessed in slices in a Colab file aside. We will still report the preprocessing applied in the next cells\n",
    "data0 = torch.load('0_to_15k.pt')\n",
    "data1 = torch.load('firstslice.pt')\n",
    "data2 = torch.load('from_40.pt')\n",
    "data3 = torch.load('21_31.pt')\n",
    "data4 = torch.load('31_41.pt')"
   ]
  },
  {
   "cell_type": "code",
   "execution_count": null,
   "id": "518a4139",
   "metadata": {},
   "outputs": [],
   "source": [
    "#concatenate the slices of the dataset\n",
    "DATA = torch.utils.data.ConcatDataset([data0, data1, data2, data3, data4])"
   ]
  },
  {
   "cell_type": "markdown",
   "id": "6df37ce3",
   "metadata": {},
   "source": [
    "\n",
    "## Data Preprocessing\n",
    "\n",
    "In order to preprocess our dataset effectively, we had to conduct an analysis of its distribution to determine the appropriate model definition. During this phase, two major challenges were encountered, namely dataset imbalance and image standardization. "
   ]
  },
  {
   "cell_type": "markdown",
   "id": "e338aef2",
   "metadata": {},
   "source": [
    "#### Image Standardization\n",
    "Initially, we converted the species values in the dataset into numerical values to enhance statistical analysis. This revealed the issues regarding **dataset imbalance**, but we decided to deal with this issue after solving the **image standardization** issue.\n",
    "\n",
    "About the last mentioned issue, we employed the _pytorch.Transform_   function to resize the images to $224 \\times224$  dimensions and then we turned each of them into a vector to make it processable by the rest of the nertowrk. As for the channel sizing issue, initially, we experimented with the _Grayscale_ transform, but realized that forcing the channels to $1$ would create unnecessary challenges for the fin recognition while forcing them to $3$ would have made our network uselessly heavier, since the grayscaled images would have had $3$ channels with the same value in each of them. Eventually, we resolved this issue by using _Image.convert(‘RGB’)_  when loading the images in the Dataset object to maintain the original number of channels in each image. \n",
    "\n",
    "Since there are no random transformations applied to our dataset. We decided to preprocess our data all at once in a separate file, in this way, we lightened a lot our training process, since our DataLoader did not had to preprocess them at every code run. Thus we sliced the original dataset, we applied transformation to each slices and then we uploaded the slices, as shown in the previous cells."
   ]
  },
  {
   "cell_type": "code",
   "execution_count": null,
   "id": "f25dfbb9",
   "metadata": {},
   "outputs": [],
   "source": [
    "#transformations applied in the Colab file\n",
    "transformation = transforms.Compose([\n",
    "    transforms.Resize((224, 224)), #image resizing following standards\n",
    "    transforms.ToTensor()#turn image into tensor\n",
    "])\n",
    "new_species = DATA['species'].astype('category').cat.codes  \n",
    "\n",
    "DATA['species'] = new_species"
   ]
  },
  {
   "cell_type": "markdown",
   "id": "bc476686",
   "metadata": {},
   "source": [
    "One important step in the definition of our Dataset instance is the loop in the _init_ function. Thanks to this at the first iteration everything is preprocessed at once, and we do not have to iterate it batch by batch as it happens in normal iterators."
   ]
  },
  {
   "cell_type": "code",
   "execution_count": 2,
   "id": "68b48816",
   "metadata": {},
   "outputs": [],
   "source": [
    "import os\n",
    "\n",
    "class ImageDatasetVGG(Dataset):\n",
    "    def __init__(self, annotations_file, img_dir, transform=None):\n",
    "        self.img_labels = annotations_file\n",
    "        self.img_dir = img_dir\n",
    "        self.transform = transform\n",
    "        self.pairs = list()\n",
    "\n",
    "        for idx in tqdm(range(len(annotations_file))):\n",
    "\n",
    "            img_path = os.path.join(self.img_dir, self.img_labels.iloc[idx, 0])\n",
    "            image = Image.open(img_path).convert('RGB') ## this is being done because before we were dealing just with greyscale images 😦\n",
    "            label = self.img_labels.iloc[idx, 1]\n",
    "\n",
    "            image = self.transform(image)\n",
    "            self.pairs.append((image, label))\n",
    "\n",
    "\n",
    "\n",
    "    def __len__(self): #find dataset length\n",
    "        return len(self.img_labels)\n",
    "\n",
    "    def __getitem__(self, idx): #get the pair img-label in a tuple\n",
    "        pair = self.pairs[idx]\n",
    "        image, label = pair[0], pair[1]\n",
    "        return image, label"
   ]
  },
  {
   "cell_type": "code",
   "execution_count": 8,
   "id": "87833b8f",
   "metadata": {},
   "outputs": [],
   "source": [
    "#find size of the valuation set considering that it will be the 20% of our dataset\n",
    "val_size = int(len(DATA) - len(DATA)*0.8)"
   ]
  },
  {
   "cell_type": "markdown",
   "id": "612fc2a2",
   "metadata": {},
   "source": [
    "In the subsequent cell, we opted to assign a seed value to our training and validation split. The purpose behind this decision was to assess whether the model had genuinely learned by exposing it to images that it supposedly had not encountered before. To ensure the reliability of our findings, we conducted multiple iterations instead of retraining the entire model from scratch, as it was unnecessary. However, over time, we observed that the pool of previously unseen images was depleted, prompting the model to rely on images from the training set, leading to overfitting. Consequently, we introduced the concept of a seed value to address this issue."
   ]
  },
  {
   "cell_type": "code",
   "execution_count": 71,
   "id": "dab5d59e",
   "metadata": {},
   "outputs": [
    {
     "data": {
      "text/plain": [
       "<torch._C.Generator at 0x7f96d38ccfd0>"
      ]
     },
     "execution_count": 71,
     "metadata": {},
     "output_type": "execute_result"
    }
   ],
   "source": [
    "generator = torch.Generator()\n",
    "generator.manual_seed(1)"
   ]
  },
  {
   "cell_type": "markdown",
   "id": "1add28ba",
   "metadata": {},
   "source": [
    "##### Dataset Imbalance\n",
    "Then we proceeded by addressing the issue of the  dataset imbalance, which we addressed by randomly splitting the data into training ($80\\%$) and test ($20\\%$) sets utilizing the _torch.utils.data.dataset.randomsplit_  function. "
   ]
  },
  {
   "cell_type": "code",
   "execution_count": 72,
   "id": "cb1dd437",
   "metadata": {},
   "outputs": [],
   "source": [
    "image_train, image_val = torch.utils.data.random_split(DATA, (len(DATA)- val_size, val_size), generator=generator) "
   ]
  },
  {
   "cell_type": "markdown",
   "id": "fdc7891a",
   "metadata": {},
   "source": [
    "Then, to address the issue of imbalance, we made the decision to assign weighted samples from both the train sets. This involved determining the number of images corresponding to each label by counting the instances with identical labels obtainable from the Dataset object.\n",
    "\n",
    "In order to accomplish this, we employed the following cell to extract all the labels associated with the images in the train set. The labels were then transformed into a Series object to facilitate subsequent conversion into a NumPy array and facilitate analysis and calculations."
   ]
  },
  {
   "cell_type": "code",
   "execution_count": 12,
   "id": "f6924121",
   "metadata": {},
   "outputs": [],
   "source": [
    "Y = list()\n",
    "for i in range(len(image_train)):\n",
    "    Y.append(image_train[i][1])\n",
    "    \n",
    "labels_on_train = pd.Series(Y)\n"
   ]
  },
  {
   "cell_type": "code",
   "execution_count": null,
   "id": "fb7f950e",
   "metadata": {},
   "outputs": [],
   "source": [
    "unique_new_species = labels_on_train.unique() #take unique instances of labels in the train set\n",
    "train_labels_np = np.array(labels_on_train) #turn the Series of labels into a numpy array"
   ]
  },
  {
   "cell_type": "markdown",
   "id": "9679a769",
   "metadata": {},
   "source": [
    "Further, we dealt with the imbalance within the training set by implementing a weighted random sampler (_torch.utils.data.sampler.WeightedRandomSampler_ ), with no such balancing required for the validation set. Finally, we defined weights for each class in the training set based on an inverse proportion to their respective sample sizes."
   ]
  },
  {
   "cell_type": "code",
   "execution_count": 14,
   "id": "f81a168c",
   "metadata": {},
   "outputs": [],
   "source": [
    "import torch.utils.data as data\n",
    "from collections import Counter\n",
    "\n",
    "\n",
    "# calculate the quantity of instances belonging to each class in the train set\n",
    "class_counts = Counter(labels_on_train)\n",
    "n_samples = len(train_labels_np)\n",
    "\n",
    "# calculates the weights for each class\n",
    "weights = [1.0 / class_counts[x] for x in train_labels_np]\n",
    "\n",
    "# crete a weigthed sampler which will further be applied only to the train set\n",
    "sampler = data.WeightedRandomSampler(weights, n_samples)"
   ]
  },
  {
   "cell_type": "code",
   "execution_count": 73,
   "id": "b10d1d89",
   "metadata": {},
   "outputs": [],
   "source": [
    "#Define tha DataLoader objects\n",
    "\n",
    "train_loader = DataLoader(image_train, batch_size=256, sampler=sampler)\n",
    "val_loader = DataLoader(image_val, batch_size=512)"
   ]
  },
  {
   "cell_type": "markdown",
   "id": "de825eb0",
   "metadata": {},
   "source": [
    "## The Model\n",
    "Our model was defined employing a **Convolutional Neural Network (CNN)** for its intended purpose. Drawing inspiration from the VGG model, we conducted numerous trials to ensure proper fitting of our data, ultimately arriving at the configuration detailed below.\n",
    "\n",
    "As evident in the subsequent cell, we constructed a **Fully Connected CNN** comprising a total of **9 CNN Blocks** and **3 Fully Connected**. The **LeakyReLU function** was selected as the activation function of choice. Additionally, to defeat the phenomenon overfitting, we made the deliberate choice to alternate some **Max Pooling layers** having a default stride value in the **Conv2D layer**, with some other layers without **Max Pooling layer** but having a greater stride than the default one in the **Conv2d layer**. This decision was motivated by our initial implementation, wherein we applied **Max Pooling** to all layers by default. However, after observing that our images had already been resized, we recognized that incorporating Max Pooling universally could significantly increase the risk of underfitting. On the other hand, completely omitting Max Pooling, even with an increase in stride value, would invariably lead to overfitting. Therefore, we struck a balance between these two techniques to achieve optimal performance."
   ]
  },
  {
   "cell_type": "code",
   "execution_count": 79,
   "id": "fa54c2b4",
   "metadata": {},
   "outputs": [],
   "source": [
    "class CNN(nn.Module):\n",
    "    \n",
    "    \n",
    "    def __init__(self, num_classes=30):\n",
    "        super().__init__()\n",
    "        \n",
    "        self.ConvLayer1 = nn.Sequential(\n",
    "            nn.Conv2d(3, 32, kernel_size=5, stride=2, padding=1),\n",
    "            nn.BatchNorm2d(32),\n",
    "            nn.ReLU())\n",
    "        \n",
    "        self.ConvLayer2 = nn.Sequential(\n",
    "            nn.Conv2d(32, 32, kernel_size=3, stride=1, padding=1),\n",
    "            nn.BatchNorm2d(32),\n",
    "            nn.MaxPool2d((2,2)),\n",
    "            nn.ReLU())\n",
    "        \n",
    "        self.ConvLayer3 = nn.Sequential(\n",
    "            nn.Conv2d(32, 64, kernel_size=3, stride=2, padding=1),\n",
    "            nn.BatchNorm2d(64),\n",
    "            nn.ReLU())\n",
    "        \n",
    "        self.ConvLayer4 = nn.Sequential(\n",
    "            nn.Conv2d(64, 64, kernel_size=3, stride=1, padding=1),\n",
    "            nn.BatchNorm2d(64),\n",
    "            nn.MaxPool2d((2,2)),\n",
    "            nn.ReLU())\n",
    "        \n",
    "        self.ConvLayer5 = nn.Sequential(\n",
    "            nn.Conv2d(64, 128, kernel_size=3, stride=1, padding=1),\n",
    "            nn.BatchNorm2d(128),   \n",
    "            nn.ReLU())\n",
    "        \n",
    "        self.ConvLayer6 = nn.Sequential(\n",
    "            nn.Conv2d(128, 256, kernel_size=3, stride=2, padding=1),\n",
    "            nn.BatchNorm2d(256),\n",
    "            nn.ReLU())\n",
    "        \n",
    "        self.ConvLayer7 = nn.Sequential(\n",
    "            nn.Conv2d(256, 256, kernel_size=3, stride=1, padding=1),\n",
    "            nn.BatchNorm2d(256),\n",
    "            nn.ReLU())\n",
    "        \n",
    "        self.ConvLayer8 = nn.Sequential(\n",
    "            nn.Conv2d(256, 512, kernel_size=3, stride=1, padding=1),\n",
    "            nn.BatchNorm2d(512),\n",
    "            nn.ReLU())\n",
    "        \n",
    "        self.ConvLayer9 = nn.Sequential(\n",
    "            nn.Conv2d(512, 512, kernel_size=3, stride=1, padding=1),\n",
    "            nn.BatchNorm2d(512),\n",
    "            nn.ReLU())\n",
    "        \n",
    "       \n",
    "        \n",
    "        self.fc1 = nn.Sequential(\n",
    "            nn.Dropout(0.2),\n",
    "            nn.Linear(25088, 2048),\n",
    "            nn.ReLU())\n",
    "        self.fc2 = nn.Sequential(\n",
    "            nn.Dropout(0.2),\n",
    "            nn.Linear(2048, 256),\n",
    "            nn.ReLU())\n",
    "        self.fc3 = nn.Sequential(\n",
    "            nn.Linear(256, num_classes))\n",
    "        \n",
    "    \n",
    "    \n",
    "    def forward(self, inputs):\n",
    "        \n",
    "        x = self.ConvLayer1(inputs)\n",
    "        x = self.ConvLayer2(x)\n",
    "        x = self.ConvLayer3(x)\n",
    "        x = self.ConvLayer4(x)\n",
    "        x = self.ConvLayer5(x)\n",
    "        x = self.ConvLayer6(x)\n",
    "        x = self.ConvLayer7(x)\n",
    "        x = self.ConvLayer8(x)\n",
    "        x = self.ConvLayer9(x)\n",
    "\n",
    "        x = x.reshape(x.size(0), -1)\n",
    "        \n",
    "        \n",
    "        x = self.fc1(x)\n",
    "        x = self.fc2(x)\n",
    "        \n",
    "        return self.fc3(x)"
   ]
  },
  {
   "cell_type": "code",
   "execution_count": 97,
   "id": "01a43a6e",
   "metadata": {
    "scrolled": false
   },
   "outputs": [
    {
     "data": {
      "text/plain": [
       "CNN(\n",
       "  (ConvLayer1): Sequential(\n",
       "    (0): Conv2d(3, 32, kernel_size=(5, 5), stride=(2, 2), padding=(1, 1))\n",
       "    (1): BatchNorm2d(32, eps=1e-05, momentum=0.1, affine=True, track_running_stats=True)\n",
       "    (2): ReLU()\n",
       "  )\n",
       "  (ConvLayer2): Sequential(\n",
       "    (0): Conv2d(32, 32, kernel_size=(3, 3), stride=(1, 1), padding=(1, 1))\n",
       "    (1): BatchNorm2d(32, eps=1e-05, momentum=0.1, affine=True, track_running_stats=True)\n",
       "    (2): MaxPool2d(kernel_size=(2, 2), stride=(2, 2), padding=0, dilation=1, ceil_mode=False)\n",
       "    (3): ReLU()\n",
       "  )\n",
       "  (ConvLayer3): Sequential(\n",
       "    (0): Conv2d(32, 64, kernel_size=(3, 3), stride=(2, 2), padding=(1, 1))\n",
       "    (1): BatchNorm2d(64, eps=1e-05, momentum=0.1, affine=True, track_running_stats=True)\n",
       "    (2): ReLU()\n",
       "  )\n",
       "  (ConvLayer4): Sequential(\n",
       "    (0): Conv2d(64, 64, kernel_size=(3, 3), stride=(1, 1), padding=(1, 1))\n",
       "    (1): BatchNorm2d(64, eps=1e-05, momentum=0.1, affine=True, track_running_stats=True)\n",
       "    (2): MaxPool2d(kernel_size=(2, 2), stride=(2, 2), padding=0, dilation=1, ceil_mode=False)\n",
       "    (3): ReLU()\n",
       "  )\n",
       "  (ConvLayer5): Sequential(\n",
       "    (0): Conv2d(64, 128, kernel_size=(3, 3), stride=(1, 1), padding=(1, 1))\n",
       "    (1): BatchNorm2d(128, eps=1e-05, momentum=0.1, affine=True, track_running_stats=True)\n",
       "    (2): ReLU()\n",
       "  )\n",
       "  (ConvLayer6): Sequential(\n",
       "    (0): Conv2d(128, 256, kernel_size=(3, 3), stride=(2, 2), padding=(1, 1))\n",
       "    (1): BatchNorm2d(256, eps=1e-05, momentum=0.1, affine=True, track_running_stats=True)\n",
       "    (2): ReLU()\n",
       "  )\n",
       "  (ConvLayer7): Sequential(\n",
       "    (0): Conv2d(256, 256, kernel_size=(3, 3), stride=(1, 1), padding=(1, 1))\n",
       "    (1): BatchNorm2d(256, eps=1e-05, momentum=0.1, affine=True, track_running_stats=True)\n",
       "    (2): ReLU()\n",
       "  )\n",
       "  (ConvLayer8): Sequential(\n",
       "    (0): Conv2d(256, 512, kernel_size=(3, 3), stride=(1, 1), padding=(1, 1))\n",
       "    (1): BatchNorm2d(512, eps=1e-05, momentum=0.1, affine=True, track_running_stats=True)\n",
       "    (2): ReLU()\n",
       "  )\n",
       "  (ConvLayer9): Sequential(\n",
       "    (0): Conv2d(512, 512, kernel_size=(3, 3), stride=(1, 1), padding=(1, 1))\n",
       "    (1): BatchNorm2d(512, eps=1e-05, momentum=0.1, affine=True, track_running_stats=True)\n",
       "    (2): ReLU()\n",
       "  )\n",
       "  (fc1): Sequential(\n",
       "    (0): Dropout(p=0.2, inplace=False)\n",
       "    (1): Linear(in_features=25088, out_features=2048, bias=True)\n",
       "    (2): ReLU()\n",
       "  )\n",
       "  (fc2): Sequential(\n",
       "    (0): Dropout(p=0.2, inplace=False)\n",
       "    (1): Linear(in_features=2048, out_features=256, bias=True)\n",
       "    (2): ReLU()\n",
       "  )\n",
       "  (fc3): Sequential(\n",
       "    (0): Linear(in_features=256, out_features=30, bias=True)\n",
       "  )\n",
       ")"
      ]
     },
     "execution_count": 97,
     "metadata": {},
     "output_type": "execute_result"
    }
   ],
   "source": [
    "#model instantiation\n",
    "model = CNN(30)\n",
    "model.cuda()"
   ]
  },
  {
   "cell_type": "markdown",
   "id": "671b976f",
   "metadata": {},
   "source": [
    "#### Loss and Optimizer\n",
    "We defined the **Cross Entropy Loss** the **AdamW optimizer** to be used in our train and test process. We decided to use the AdamW optiizer, insted of the traditional Adam optimizer because, in this new version of the algorithm, the weight decay is performed only after controlling the parameter-wise step size. The weight decay or regularization term does not end up in the moving averages and is thus only proportional to the weight itself. Thus, AdamW yields better training loss and that the models generalize much better than models trained with Adam allowing the new version to compete with stochastic gradient descent with momentum.\n",
    "\n",
    "\n",
    "In the last line of the cell below, we also added the **_ReduceLRonPlateau_** method, Pytorch documentation defines it as: \"Reduce learning rate when a metric has stopped improving. Models often benefit from reducing the learning rate by a factor of 2-10 once learning stagnates. This scheduler reads a metrics quantity and if no improvement is seen for a ‘patience’ number of epochs, the learning rate is reduced.\"\n",
    "\n"
   ]
  },
  {
   "cell_type": "code",
   "execution_count": 98,
   "id": "53af3169",
   "metadata": {},
   "outputs": [],
   "source": [
    "loss = nn.CrossEntropyLoss()\n",
    "criterion = optim.AdamW(model.parameters(), lr=0.0001)\n",
    "scheduler = ReduceLROnPlateau(criterion, mode='min', factor=0.2, patience=2)"
   ]
  },
  {
   "cell_type": "markdown",
   "id": "f8515135",
   "metadata": {},
   "source": [
    "## Train and Test Functions\n",
    "\n"
   ]
  },
  {
   "cell_type": "markdown",
   "id": "a894ad13",
   "metadata": {},
   "source": [
    "Before strting the train and test loop, we wanted to augment our data, in order to make our model more robust. Thus we applied some random transformations to our data and we aplied them in the train function. We used the _Compose_ method to add a random rotation and an horizontal flip to our data. Then we apply a random seed to this procedure."
   ]
  },
  {
   "cell_type": "code",
   "execution_count": null,
   "id": "4cea313e",
   "metadata": {},
   "outputs": [],
   "source": [
    "transform_inside = transforms.Compose([\n",
    "    transforms.RandomRotation(degrees=25),\n",
    "    transforms.RandomHorizontalFlip(p=0.3),\n",
    "    #transforms.RandomVerticalFlip(p=0.3) ## we can observe that applying certain data augmentation techniques can be counterproductive,\n",
    "                                           # because we can never have fins upside down in nature\n",
    "])\n",
    "\n",
    "seed = np.random.randint(2147483647) \n",
    "random.seed(seed) \n",
    "torch.manual_seed(seed)"
   ]
  },
  {
   "cell_type": "code",
   "execution_count": 82,
   "id": "adf6a00d",
   "metadata": {},
   "outputs": [],
   "source": [
    "#train function definition\n",
    "def train(model, loss_f, optim, dataloader):\n",
    "    \n",
    "    model.train()\n",
    "    train_losses = list() #instantiate the list that will contain all the losses reached at every iteration of the same epoch,\n",
    "                          #to associate its average to the current epoch. it will be emptied at the beginnign of the successive epoch\n",
    "    \n",
    "    train_loss = 0\n",
    "    n_batches = len(dataloader)\n",
    "    \n",
    "    for i, batch in enumerate(tqdm(dataloader)):\n",
    "        imgs, labels = batch[0], batch[1]\n",
    "        labels  = labels.type(torch.LongTensor)\n",
    "        imgs, labels = imgs.cuda(), labels.cuda()\n",
    "        imgs = transform_inside(imgs)\n",
    "        \n",
    "        ## -- forward pass -- ##\n",
    "        preds = model(imgs)\n",
    "        \n",
    "        ## -- computing the loss wrt G.T. -- ##\n",
    "        loss = loss_f(preds, labels)\n",
    "    \n",
    "        ## -- Backpropagation -- ##\n",
    "        optim.zero_grad()\n",
    "        loss.backward()\n",
    "        optim.step()\n",
    "        train_losses.append(loss.item())\n",
    "        train_loss += loss.item()\n",
    "        \n",
    "    print(f\"Average TRAIN Loss :: {train_loss/n_batches} \")\n",
    "    \n",
    "    return train_loss/n_batches"
   ]
  },
  {
   "cell_type": "code",
   "execution_count": 83,
   "id": "67684d20",
   "metadata": {},
   "outputs": [],
   "source": [
    "#test function definition\n",
    "def test(model, iteratore, loss_f):\n",
    "    num_batches = len(iteratore)\n",
    "    test_loss = 0\n",
    "    accuracy = 0\n",
    "    test_losses = list()\n",
    "    model.eval()\n",
    "    with torch.no_grad():\n",
    "        for i, batch in enumerate(tqdm(iteratore)):\n",
    "            img, labels = batch[0], batch[1]\n",
    "            labels  = labels.type(torch.LongTensor)\n",
    "            img, labels = img.cuda(), labels.cuda()\n",
    "            pred = model(img)\n",
    "            loss = loss_f(pred, labels)\n",
    "            test_loss += loss.item()\n",
    "            pred_indices = torch.argmax(pred, dim=1)\n",
    "            label_test = labels.cpu().float()\n",
    "            pred_indices = pred_indices.cpu().float()\n",
    "            distances = torch.where(pred_indices == label_test, torch.tensor(1), torch.tensor(0))\n",
    "            distances = distances.numpy()\n",
    "            accuracy += sum(distances)/len(label_test)\n",
    "            test_losses.append(loss.item())\n",
    "            \n",
    "    test_loss = test_loss / num_batches\n",
    "    accuracy_tot = accuracy / num_batches\n",
    "    \n",
    "    print(f\"Average TEST loss: {test_loss}, TEST accuracy: {accuracy_tot*100}%\")\n",
    "    return test_loss"
   ]
  },
  {
   "cell_type": "markdown",
   "id": "bf41daa5",
   "metadata": {},
   "source": [
    "We have seen, by changing the learning rate throughout the epochs (0.0003, 0.0001 and then 0.00008) iterations that at fifth epochs it authomatically set itself at 0.000016, thenks to the previously defined _scheduler_"
   ]
  },
  {
   "cell_type": "code",
   "execution_count": 101,
   "id": "77de23ff",
   "metadata": {
    "scrolled": true
   },
   "outputs": [
    {
     "name": "stdout",
     "output_type": "stream",
     "text": [
      "----- epoch 1 -----\n",
      "Learning rate: 0.0001\n"
     ]
    },
    {
     "name": "stderr",
     "output_type": "stream",
     "text": [
      "100%|██████████| 157/157 [00:22<00:00,  6.84it/s]\n"
     ]
    },
    {
     "name": "stdout",
     "output_type": "stream",
     "text": [
      "Average TRAIN Loss :: 1.4896469051670875 \n"
     ]
    },
    {
     "name": "stderr",
     "output_type": "stream",
     "text": [
      "100%|██████████| 20/20 [00:04<00:00,  4.26it/s]\n"
     ]
    },
    {
     "name": "stdout",
     "output_type": "stream",
     "text": [
      "Average TEST loss: 1.4114030659198762, TEST accuracy: 56.50952675359713%\n",
      "\n",
      "\n",
      "----- epoch 2 -----\n",
      "Learning rate: 0.0001\n"
     ]
    },
    {
     "name": "stderr",
     "output_type": "stream",
     "text": [
      "100%|██████████| 157/157 [00:23<00:00,  6.82it/s]\n"
     ]
    },
    {
     "name": "stdout",
     "output_type": "stream",
     "text": [
      "Average TRAIN Loss :: 0.8678165006030137 \n"
     ]
    },
    {
     "name": "stderr",
     "output_type": "stream",
     "text": [
      "100%|██████████| 20/20 [00:03<00:00,  6.26it/s]\n"
     ]
    },
    {
     "name": "stdout",
     "output_type": "stream",
     "text": [
      "Average TEST loss: 1.3173662722110748, TEST accuracy: 58.51042603417266%\n",
      "\n",
      "\n",
      "----- epoch 3 -----\n",
      "Learning rate: 0.0001\n"
     ]
    },
    {
     "name": "stderr",
     "output_type": "stream",
     "text": [
      "100%|██████████| 157/157 [00:23<00:00,  6.77it/s]\n"
     ]
    },
    {
     "name": "stdout",
     "output_type": "stream",
     "text": [
      "Average TRAIN Loss :: 0.6389024724626238 \n"
     ]
    },
    {
     "name": "stderr",
     "output_type": "stream",
     "text": [
      "100%|██████████| 20/20 [00:06<00:00,  3.11it/s]\n"
     ]
    },
    {
     "name": "stdout",
     "output_type": "stream",
     "text": [
      "Average TEST loss: 1.0565943270921707, TEST accuracy: 67.96804743705036%\n",
      "\n",
      "\n",
      "----- epoch 4 -----\n",
      "Learning rate: 0.0001\n"
     ]
    },
    {
     "name": "stderr",
     "output_type": "stream",
     "text": [
      "100%|██████████| 157/157 [00:27<00:00,  5.62it/s]\n"
     ]
    },
    {
     "name": "stdout",
     "output_type": "stream",
     "text": [
      "Average TRAIN Loss :: 0.4996619135331196 \n"
     ]
    },
    {
     "name": "stderr",
     "output_type": "stream",
     "text": [
      "100%|██████████| 20/20 [00:03<00:00,  5.84it/s]\n"
     ]
    },
    {
     "name": "stdout",
     "output_type": "stream",
     "text": [
      "Average TEST loss: 0.889119666814804, TEST accuracy: 72.5275404676259%\n",
      "\n",
      "\n",
      "----- epoch 5 -----\n",
      "Learning rate: 0.0001\n"
     ]
    },
    {
     "name": "stderr",
     "output_type": "stream",
     "text": [
      "100%|██████████| 157/157 [00:24<00:00,  6.46it/s]\n"
     ]
    },
    {
     "name": "stdout",
     "output_type": "stream",
     "text": [
      "Average TRAIN Loss :: 0.4181849975494822 \n"
     ]
    },
    {
     "name": "stderr",
     "output_type": "stream",
     "text": [
      "100%|██████████| 20/20 [00:03<00:00,  6.03it/s]\n"
     ]
    },
    {
     "name": "stdout",
     "output_type": "stream",
     "text": [
      "Average TEST loss: 0.9778119504451752, TEST accuracy: 70.88438624100719%\n",
      "\n",
      "\n",
      "----- epoch 6 -----\n",
      "Learning rate: 0.0001\n"
     ]
    },
    {
     "name": "stderr",
     "output_type": "stream",
     "text": [
      "100%|██████████| 157/157 [00:24<00:00,  6.43it/s]\n"
     ]
    },
    {
     "name": "stdout",
     "output_type": "stream",
     "text": [
      "Average TRAIN Loss :: 0.36424861687004184 \n"
     ]
    },
    {
     "name": "stderr",
     "output_type": "stream",
     "text": [
      "100%|██████████| 20/20 [00:03<00:00,  6.11it/s]\n"
     ]
    },
    {
     "name": "stdout",
     "output_type": "stream",
     "text": [
      "Average TEST loss: 0.7568818897008895, TEST accuracy: 76.19576214028777%\n",
      "\n",
      "\n",
      "----- epoch 7 -----\n",
      "Learning rate: 0.0001\n"
     ]
    },
    {
     "name": "stderr",
     "output_type": "stream",
     "text": [
      "100%|██████████| 157/157 [00:23<00:00,  6.71it/s]\n"
     ]
    },
    {
     "name": "stdout",
     "output_type": "stream",
     "text": [
      "Average TRAIN Loss :: 0.31410836309764034 \n"
     ]
    },
    {
     "name": "stderr",
     "output_type": "stream",
     "text": [
      "100%|██████████| 20/20 [00:03<00:00,  6.14it/s]\n"
     ]
    },
    {
     "name": "stdout",
     "output_type": "stream",
     "text": [
      "Average TEST loss: 0.7530745267868042, TEST accuracy: 76.98783160971223%\n",
      "\n",
      "\n",
      "----- epoch 8 -----\n",
      "Learning rate: 0.0001\n"
     ]
    },
    {
     "name": "stderr",
     "output_type": "stream",
     "text": [
      "100%|██████████| 157/157 [00:23<00:00,  6.72it/s]\n"
     ]
    },
    {
     "name": "stdout",
     "output_type": "stream",
     "text": [
      "Average TRAIN Loss :: 0.27645658212862195 \n"
     ]
    },
    {
     "name": "stderr",
     "output_type": "stream",
     "text": [
      "100%|██████████| 20/20 [00:03<00:00,  6.08it/s]\n"
     ]
    },
    {
     "name": "stdout",
     "output_type": "stream",
     "text": [
      "Average TEST loss: 0.7390167534351348, TEST accuracy: 76.69535465377699%\n",
      "\n",
      "\n",
      "----- epoch 9 -----\n",
      "Learning rate: 0.0001\n"
     ]
    },
    {
     "name": "stderr",
     "output_type": "stream",
     "text": [
      "100%|██████████| 157/157 [00:23<00:00,  6.69it/s]\n"
     ]
    },
    {
     "name": "stdout",
     "output_type": "stream",
     "text": [
      "Average TRAIN Loss :: 0.24840828757377187 \n"
     ]
    },
    {
     "name": "stderr",
     "output_type": "stream",
     "text": [
      "100%|██████████| 20/20 [00:03<00:00,  6.06it/s]\n"
     ]
    },
    {
     "name": "stdout",
     "output_type": "stream",
     "text": [
      "Average TEST loss: 0.6767748355865478, TEST accuracy: 79.3962876573741%\n",
      "\n",
      "\n",
      "----- epoch 10 -----\n",
      "Learning rate: 0.0001\n"
     ]
    },
    {
     "name": "stderr",
     "output_type": "stream",
     "text": [
      "100%|██████████| 157/157 [00:23<00:00,  6.77it/s]\n"
     ]
    },
    {
     "name": "stdout",
     "output_type": "stream",
     "text": [
      "Average TRAIN Loss :: 0.22760778855366312 \n"
     ]
    },
    {
     "name": "stderr",
     "output_type": "stream",
     "text": [
      "100%|██████████| 20/20 [00:03<00:00,  6.06it/s]\n"
     ]
    },
    {
     "name": "stdout",
     "output_type": "stream",
     "text": [
      "Average TEST loss: 0.6494101196527481, TEST accuracy: 81.70814129946044%\n",
      "\n",
      "\n",
      "----- epoch 11 -----\n",
      "Learning rate: 0.0001\n"
     ]
    },
    {
     "name": "stderr",
     "output_type": "stream",
     "text": [
      "100%|██████████| 157/157 [00:22<00:00,  6.88it/s]\n"
     ]
    },
    {
     "name": "stdout",
     "output_type": "stream",
     "text": [
      "Average TRAIN Loss :: 0.2091596918121265 \n"
     ]
    },
    {
     "name": "stderr",
     "output_type": "stream",
     "text": [
      "100%|██████████| 20/20 [00:03<00:00,  6.07it/s]\n"
     ]
    },
    {
     "name": "stdout",
     "output_type": "stream",
     "text": [
      "Average TEST loss: 0.5974256888031959, TEST accuracy: 82.11162320143885%\n",
      "\n",
      "\n",
      "----- epoch 12 -----\n",
      "Learning rate: 5e-05\n"
     ]
    },
    {
     "name": "stderr",
     "output_type": "stream",
     "text": [
      "100%|██████████| 157/157 [00:22<00:00,  6.89it/s]\n"
     ]
    },
    {
     "name": "stdout",
     "output_type": "stream",
     "text": [
      "Average TRAIN Loss :: 0.14412168645934695 \n"
     ]
    },
    {
     "name": "stderr",
     "output_type": "stream",
     "text": [
      "100%|██████████| 20/20 [00:03<00:00,  6.15it/s]\n"
     ]
    },
    {
     "name": "stdout",
     "output_type": "stream",
     "text": [
      "Average TEST loss: 0.4958669036626816, TEST accuracy: 85.35324865107914%\n",
      "\n",
      "\n",
      "----- epoch 13 -----\n",
      "Learning rate: 5e-05\n"
     ]
    },
    {
     "name": "stderr",
     "output_type": "stream",
     "text": [
      "100%|██████████| 157/157 [00:23<00:00,  6.81it/s]\n"
     ]
    },
    {
     "name": "stdout",
     "output_type": "stream",
     "text": [
      "Average TRAIN Loss :: 0.13032634869502607 \n"
     ]
    },
    {
     "name": "stderr",
     "output_type": "stream",
     "text": [
      "100%|██████████| 20/20 [00:03<00:00,  6.20it/s]\n"
     ]
    },
    {
     "name": "stdout",
     "output_type": "stream",
     "text": [
      "Average TEST loss: 0.48828853815793993, TEST accuracy: 86.01780294514387%\n",
      "\n",
      "\n",
      "----- epoch 14 -----\n",
      "Learning rate: 5e-05\n"
     ]
    },
    {
     "name": "stderr",
     "output_type": "stream",
     "text": [
      "100%|██████████| 157/157 [00:22<00:00,  6.95it/s]\n"
     ]
    },
    {
     "name": "stdout",
     "output_type": "stream",
     "text": [
      "Average TRAIN Loss :: 0.11362138713241383 \n"
     ]
    },
    {
     "name": "stderr",
     "output_type": "stream",
     "text": [
      "100%|██████████| 20/20 [00:03<00:00,  6.18it/s]\n"
     ]
    },
    {
     "name": "stdout",
     "output_type": "stream",
     "text": [
      "Average TEST loss: 0.4756669968366623, TEST accuracy: 86.17714422212231%\n",
      "\n",
      "\n",
      "----- epoch 15 -----\n",
      "Learning rate: 5e-05\n"
     ]
    },
    {
     "name": "stderr",
     "output_type": "stream",
     "text": [
      "100%|██████████| 157/157 [00:22<00:00,  6.91it/s]\n"
     ]
    },
    {
     "name": "stdout",
     "output_type": "stream",
     "text": [
      "Average TRAIN Loss :: 0.10774919490335853 \n"
     ]
    },
    {
     "name": "stderr",
     "output_type": "stream",
     "text": [
      "100%|██████████| 20/20 [00:03<00:00,  6.05it/s]\n"
     ]
    },
    {
     "name": "stdout",
     "output_type": "stream",
     "text": [
      "Average TEST loss: 0.5032013550400734, TEST accuracy: 85.42729878597122%\n",
      "\n",
      "\n",
      "----- epoch 16 -----\n",
      "Learning rate: 5e-05\n"
     ]
    },
    {
     "name": "stderr",
     "output_type": "stream",
     "text": [
      "100%|██████████| 157/157 [00:22<00:00,  6.92it/s]\n"
     ]
    },
    {
     "name": "stdout",
     "output_type": "stream",
     "text": [
      "Average TRAIN Loss :: 0.1125239821708506 \n"
     ]
    },
    {
     "name": "stderr",
     "output_type": "stream",
     "text": [
      "100%|██████████| 20/20 [00:03<00:00,  5.79it/s]\n"
     ]
    },
    {
     "name": "stdout",
     "output_type": "stream",
     "text": [
      "Average TEST loss: 0.474676775932312, TEST accuracy: 86.16583295863309%\n",
      "\n",
      "\n",
      "----- epoch 17 -----\n",
      "Learning rate: 5e-05\n"
     ]
    },
    {
     "name": "stderr",
     "output_type": "stream",
     "text": [
      "100%|██████████| 157/157 [00:22<00:00,  6.89it/s]\n"
     ]
    },
    {
     "name": "stdout",
     "output_type": "stream",
     "text": [
      "Average TRAIN Loss :: 0.10384158570627877 \n"
     ]
    },
    {
     "name": "stderr",
     "output_type": "stream",
     "text": [
      "100%|██████████| 20/20 [00:03<00:00,  6.04it/s]\n"
     ]
    },
    {
     "name": "stdout",
     "output_type": "stream",
     "text": [
      "Average TEST loss: 0.5068612083792686, TEST accuracy: 85.17542996852518%\n",
      "\n",
      "\n",
      "----- epoch 18 -----\n",
      "Learning rate: 5e-05\n"
     ]
    },
    {
     "name": "stderr",
     "output_type": "stream",
     "text": [
      "100%|██████████| 157/157 [00:22<00:00,  6.94it/s]\n"
     ]
    },
    {
     "name": "stdout",
     "output_type": "stream",
     "text": [
      "Average TRAIN Loss :: 0.10405226590432179 \n"
     ]
    },
    {
     "name": "stderr",
     "output_type": "stream",
     "text": [
      "100%|██████████| 20/20 [00:03<00:00,  6.18it/s]\n"
     ]
    },
    {
     "name": "stdout",
     "output_type": "stream",
     "text": [
      "Average TEST loss: 0.4788355425000191, TEST accuracy: 87.02520795863309%\n",
      "\n",
      "\n",
      "----- epoch 19 -----\n",
      "Learning rate: 5e-05\n"
     ]
    },
    {
     "name": "stderr",
     "output_type": "stream",
     "text": [
      "100%|██████████| 157/157 [00:22<00:00,  6.96it/s]\n"
     ]
    },
    {
     "name": "stdout",
     "output_type": "stream",
     "text": [
      "Average TRAIN Loss :: 0.09699072969994348 \n"
     ]
    },
    {
     "name": "stderr",
     "output_type": "stream",
     "text": [
      "100%|██████████| 20/20 [00:03<00:00,  6.16it/s]\n"
     ]
    },
    {
     "name": "stdout",
     "output_type": "stream",
     "text": [
      "Average TEST loss: 0.48728324472904205, TEST accuracy: 86.82476674910072%\n",
      "\n",
      "\n",
      "----- epoch 20 -----\n",
      "Learning rate: 1e-05\n"
     ]
    },
    {
     "name": "stderr",
     "output_type": "stream",
     "text": [
      "100%|██████████| 157/157 [00:22<00:00,  6.89it/s]\n"
     ]
    },
    {
     "name": "stdout",
     "output_type": "stream",
     "text": [
      "Average TRAIN Loss :: 0.0691165329271536 \n"
     ]
    },
    {
     "name": "stderr",
     "output_type": "stream",
     "text": [
      "100%|██████████| 20/20 [00:03<00:00,  6.17it/s]\n"
     ]
    },
    {
     "name": "stdout",
     "output_type": "stream",
     "text": [
      "Average TEST loss: 0.4249997168779373, TEST accuracy: 88.11692052607913%\n",
      "\n",
      "\n",
      "----- epoch 21 -----\n",
      "Learning rate: 1e-05\n"
     ]
    },
    {
     "name": "stderr",
     "output_type": "stream",
     "text": [
      "100%|██████████| 157/157 [00:23<00:00,  6.77it/s]\n"
     ]
    },
    {
     "name": "stdout",
     "output_type": "stream",
     "text": [
      "Average TRAIN Loss :: 0.05582234190456617 \n"
     ]
    },
    {
     "name": "stderr",
     "output_type": "stream",
     "text": [
      "100%|██████████| 20/20 [00:03<00:00,  6.01it/s]\n"
     ]
    },
    {
     "name": "stdout",
     "output_type": "stream",
     "text": [
      "Average TEST loss: 0.37942869067192075, TEST accuracy: 89.49591108363309%\n",
      "\n",
      "\n",
      "----- epoch 22 -----\n",
      "Learning rate: 1e-05\n"
     ]
    },
    {
     "name": "stderr",
     "output_type": "stream",
     "text": [
      "100%|██████████| 157/157 [00:22<00:00,  6.91it/s]\n"
     ]
    },
    {
     "name": "stdout",
     "output_type": "stream",
     "text": [
      "Average TRAIN Loss :: 0.050621253889125244 \n"
     ]
    },
    {
     "name": "stderr",
     "output_type": "stream",
     "text": [
      "100%|██████████| 20/20 [00:03<00:00,  6.02it/s]\n"
     ]
    },
    {
     "name": "stdout",
     "output_type": "stream",
     "text": [
      "Average TEST loss: 0.37570525109767916, TEST accuracy: 89.73899786420864%\n",
      "\n",
      "\n",
      "----- epoch 23 -----\n",
      "Learning rate: 1e-05\n"
     ]
    },
    {
     "name": "stderr",
     "output_type": "stream",
     "text": [
      "100%|██████████| 157/157 [00:22<00:00,  7.00it/s]\n"
     ]
    },
    {
     "name": "stdout",
     "output_type": "stream",
     "text": [
      "Average TRAIN Loss :: 0.0524097067677671 \n"
     ]
    },
    {
     "name": "stderr",
     "output_type": "stream",
     "text": [
      "100%|██████████| 20/20 [00:03<00:00,  6.14it/s]\n"
     ]
    },
    {
     "name": "stdout",
     "output_type": "stream",
     "text": [
      "Average TEST loss: 0.37679821699857713, TEST accuracy: 90.0093440872302%\n",
      "\n",
      "\n",
      "----- epoch 24 -----\n",
      "Learning rate: 1e-05\n"
     ]
    },
    {
     "name": "stderr",
     "output_type": "stream",
     "text": [
      "100%|██████████| 157/157 [00:22<00:00,  6.91it/s]\n"
     ]
    },
    {
     "name": "stdout",
     "output_type": "stream",
     "text": [
      "Average TRAIN Loss :: 0.050356322976576676 \n"
     ]
    },
    {
     "name": "stderr",
     "output_type": "stream",
     "text": [
      "100%|██████████| 20/20 [00:03<00:00,  6.08it/s]\n"
     ]
    },
    {
     "name": "stdout",
     "output_type": "stream",
     "text": [
      "Average TEST loss: 0.3792582795023918, TEST accuracy: 90.06639219874101%\n",
      "\n",
      "\n",
      "----- epoch 25 -----\n",
      "Learning rate: 1e-05\n"
     ]
    },
    {
     "name": "stderr",
     "output_type": "stream",
     "text": [
      "100%|██████████| 157/157 [00:22<00:00,  6.94it/s]\n"
     ]
    },
    {
     "name": "stdout",
     "output_type": "stream",
     "text": [
      "Average TRAIN Loss :: 0.04564900016471459 \n"
     ]
    },
    {
     "name": "stderr",
     "output_type": "stream",
     "text": [
      "100%|██████████| 20/20 [00:03<00:00,  6.19it/s]\n"
     ]
    },
    {
     "name": "stdout",
     "output_type": "stream",
     "text": [
      "Average TEST loss: 0.37450097054243087, TEST accuracy: 89.88393660071942%\n",
      "\n",
      "\n",
      "----- epoch 26 -----\n",
      "Learning rate: 1e-05\n"
     ]
    },
    {
     "name": "stderr",
     "output_type": "stream",
     "text": [
      "100%|██████████| 157/157 [00:22<00:00,  6.86it/s]\n"
     ]
    },
    {
     "name": "stdout",
     "output_type": "stream",
     "text": [
      "Average TRAIN Loss :: 0.045137810040336505 \n"
     ]
    },
    {
     "name": "stderr",
     "output_type": "stream",
     "text": [
      "100%|██████████| 20/20 [00:03<00:00,  5.79it/s]\n"
     ]
    },
    {
     "name": "stdout",
     "output_type": "stream",
     "text": [
      "Average TEST loss: 0.3953215330839157, TEST accuracy: 89.68040411420863%\n",
      "\n",
      "\n",
      "----- epoch 27 -----\n",
      "Learning rate: 1e-05\n"
     ]
    },
    {
     "name": "stderr",
     "output_type": "stream",
     "text": [
      "100%|██████████| 157/157 [00:22<00:00,  6.95it/s]\n"
     ]
    },
    {
     "name": "stdout",
     "output_type": "stream",
     "text": [
      "Average TRAIN Loss :: 0.046608664225905566 \n"
     ]
    },
    {
     "name": "stderr",
     "output_type": "stream",
     "text": [
      "100%|██████████| 20/20 [00:03<00:00,  6.04it/s]\n"
     ]
    },
    {
     "name": "stdout",
     "output_type": "stream",
     "text": [
      "Average TEST loss: 0.38012940883636476, TEST accuracy: 89.95075033723022%\n",
      "\n",
      "\n",
      "----- epoch 28 -----\n",
      "Learning rate: 1e-05\n"
     ]
    },
    {
     "name": "stderr",
     "output_type": "stream",
     "text": [
      "100%|██████████| 157/157 [00:22<00:00,  6.98it/s]\n"
     ]
    },
    {
     "name": "stdout",
     "output_type": "stream",
     "text": [
      "Average TRAIN Loss :: 0.04416999884934467 \n"
     ]
    },
    {
     "name": "stderr",
     "output_type": "stream",
     "text": [
      "100%|██████████| 20/20 [00:03<00:00,  6.13it/s]\n"
     ]
    },
    {
     "name": "stdout",
     "output_type": "stream",
     "text": [
      "Average TEST loss: 0.3781507596373558, TEST accuracy: 89.75649168165468%\n",
      "\n",
      "\n",
      "----- epoch 29 -----\n",
      "Learning rate: 2.0000000000000003e-06\n"
     ]
    },
    {
     "name": "stderr",
     "output_type": "stream",
     "text": [
      "100%|██████████| 157/157 [00:22<00:00,  7.01it/s]\n"
     ]
    },
    {
     "name": "stdout",
     "output_type": "stream",
     "text": [
      "Average TRAIN Loss :: 0.04316650188652573 \n"
     ]
    },
    {
     "name": "stderr",
     "output_type": "stream",
     "text": [
      "100%|██████████| 20/20 [00:03<00:00,  6.12it/s]\n"
     ]
    },
    {
     "name": "stdout",
     "output_type": "stream",
     "text": [
      "Average TEST loss: 0.3724095359444618, TEST accuracy: 90.25812162769785%\n",
      "\n",
      "\n",
      "----- epoch 30 -----\n",
      "Learning rate: 2.0000000000000003e-06\n"
     ]
    },
    {
     "name": "stderr",
     "output_type": "stream",
     "text": [
      "100%|██████████| 157/157 [00:22<00:00,  6.95it/s]\n"
     ]
    },
    {
     "name": "stdout",
     "output_type": "stream",
     "text": [
      "Average TRAIN Loss :: 0.03883587382140623 \n"
     ]
    },
    {
     "name": "stderr",
     "output_type": "stream",
     "text": [
      "100%|██████████| 20/20 [00:03<00:00,  6.19it/s]\n"
     ]
    },
    {
     "name": "stdout",
     "output_type": "stream",
     "text": [
      "Average TEST loss: 0.3795531466603279, TEST accuracy: 89.93431036420864%\n",
      "\n",
      "\n",
      "----- epoch 31 -----\n",
      "Learning rate: 2.0000000000000003e-06\n"
     ]
    },
    {
     "name": "stderr",
     "output_type": "stream",
     "text": [
      "100%|██████████| 157/157 [00:22<00:00,  6.84it/s]\n"
     ]
    },
    {
     "name": "stdout",
     "output_type": "stream",
     "text": [
      "Average TRAIN Loss :: 0.03764880392225874 \n"
     ]
    },
    {
     "name": "stderr",
     "output_type": "stream",
     "text": [
      "100%|██████████| 20/20 [00:03<00:00,  5.89it/s]\n"
     ]
    },
    {
     "name": "stdout",
     "output_type": "stream",
     "text": [
      "Average TEST loss: 0.37125114351511, TEST accuracy: 90.09878035071942%\n",
      "\n",
      "\n",
      "----- epoch 32 -----\n",
      "Learning rate: 2.0000000000000003e-06\n"
     ]
    },
    {
     "name": "stderr",
     "output_type": "stream",
     "text": [
      "100%|██████████| 157/157 [00:22<00:00,  6.96it/s]\n"
     ]
    },
    {
     "name": "stdout",
     "output_type": "stream",
     "text": [
      "Average TRAIN Loss :: 0.03605344145896898 \n"
     ]
    },
    {
     "name": "stderr",
     "output_type": "stream",
     "text": [
      "100%|██████████| 20/20 [00:03<00:00,  6.11it/s]\n"
     ]
    },
    {
     "name": "stdout",
     "output_type": "stream",
     "text": [
      "Average TEST loss: 0.37030441910028455, TEST accuracy: 90.29718412769783%\n",
      "\n",
      "\n",
      "----- epoch 33 -----\n",
      "Learning rate: 2.0000000000000003e-06\n"
     ]
    },
    {
     "name": "stderr",
     "output_type": "stream",
     "text": [
      "100%|██████████| 157/157 [00:22<00:00,  6.96it/s]\n"
     ]
    },
    {
     "name": "stdout",
     "output_type": "stream",
     "text": [
      "Average TRAIN Loss :: 0.03913953495478839 \n"
     ]
    },
    {
     "name": "stderr",
     "output_type": "stream",
     "text": [
      "100%|██████████| 20/20 [00:03<00:00,  5.98it/s]\n"
     ]
    },
    {
     "name": "stdout",
     "output_type": "stream",
     "text": [
      "Average TEST loss: 0.36864716559648514, TEST accuracy: 90.49404226618705%\n",
      "\n",
      "\n",
      "----- epoch 34 -----\n",
      "Learning rate: 2.0000000000000003e-06\n"
     ]
    },
    {
     "name": "stderr",
     "output_type": "stream",
     "text": [
      "100%|██████████| 157/157 [00:22<00:00,  7.01it/s]\n"
     ]
    },
    {
     "name": "stdout",
     "output_type": "stream",
     "text": [
      "Average TRAIN Loss :: 0.03503341631145234 \n"
     ]
    },
    {
     "name": "stderr",
     "output_type": "stream",
     "text": [
      "100%|██████████| 20/20 [00:03<00:00,  6.11it/s]\n"
     ]
    },
    {
     "name": "stdout",
     "output_type": "stream",
     "text": [
      "Average TEST loss: 0.3760982617735863, TEST accuracy: 90.31516973920863%\n",
      "\n",
      "\n",
      "----- epoch 35 -----\n",
      "Learning rate: 2.0000000000000003e-06\n"
     ]
    },
    {
     "name": "stderr",
     "output_type": "stream",
     "text": [
      "100%|██████████| 157/157 [00:22<00:00,  6.92it/s]\n"
     ]
    },
    {
     "name": "stdout",
     "output_type": "stream",
     "text": [
      "Average TRAIN Loss :: 0.03633920937942661 \n"
     ]
    },
    {
     "name": "stderr",
     "output_type": "stream",
     "text": [
      "100%|██████████| 20/20 [00:03<00:00,  6.05it/s]"
     ]
    },
    {
     "name": "stdout",
     "output_type": "stream",
     "text": [
      "Average TEST loss: 0.3814066335558891, TEST accuracy: 90.29100157374101%\n",
      "\n",
      "\n"
     ]
    },
    {
     "name": "stderr",
     "output_type": "stream",
     "text": [
      "\n"
     ]
    }
   ],
   "source": [
    "min_loss = 100\n",
    "\n",
    "train_losses = list()\n",
    "test_losses = list()\n",
    "\n",
    "for epoch in range(35):\n",
    "    \n",
    "    print(f\"----- epoch {epoch+1} -----\")\n",
    "    print(f\"Learning rate:\", criterion.param_groups[0]['lr'])\n",
    "    train_losses.append(train(model, loss, criterion, train_loader))\n",
    "    t_loss = test(model, val_loader, loss)\n",
    "    \n",
    "    test_losses.append(t_loss)\n",
    "    \n",
    "    scheduler.step(t_loss)\n",
    "    \n",
    "    if epoch == 10 and criterion.param_groups[0]['lr'] == 0.0001:\n",
    "        new_lr = 0.00005\n",
    "        for param_group in criterion.param_groups:\n",
    "            param_group['lr'] = new_lr\n",
    "            \n",
    "            \n",
    "    if epoch == 20 and criterion.param_groups[0]['lr'] == 0.00005:\n",
    "        new_lr = 0.000001\n",
    "        for param_group in criterion.param_groups:\n",
    "            param_group['lr'] = new_lr\n",
    "\n",
    "     #right before possible overfitting, save checkpoints, that will be loaded at next train iteration to avoid restarting training from the beginning\n",
    "    if t_loss < min_loss:\n",
    "        min_loss = t_loss\n",
    "        torch.save(model, 'checkpoint_9_layers_including_dataAUGM.pth')\n",
    "    print(\"\\n\")\n",
    "    "
   ]
  },
  {
   "cell_type": "markdown",
   "id": "f7b7e953",
   "metadata": {},
   "source": [
    "## F1 Score Metric to check Dataset Imbalancing"
   ]
  },
  {
   "cell_type": "markdown",
   "id": "b940ef8f",
   "metadata": {},
   "source": [
    "We used the **F1 score** to find out the accuracy of our model estimation. Furthermore we used it to check if we have been able to solve our issue with dataset imbalance, because we were able to find accuracy both of the whole dataset and both of each individual class taken by the train test. And  we are totally satisfied by it."
   ]
  },
  {
   "cell_type": "code",
   "execution_count": 102,
   "id": "ab60e9b0",
   "metadata": {
    "scrolled": true
   },
   "outputs": [
    {
     "name": "stderr",
     "output_type": "stream",
     "text": [
      "100%|██████████| 20/20 [00:03<00:00,  6.10it/s]\n"
     ]
    },
    {
     "name": "stdout",
     "output_type": "stream",
     "text": [
      "F1 Score, None = [0.97765741 0.96726505 0.91594828 0.94536817 0.7826087  0.92857143\n",
      " 0.83333333 0.72307692 0.98368679 0.85799257 0.71590909 0.46153846\n",
      " 0.66666667 0.88157895 0.87989019 0.90133333 0.94774775 0.81967213\n",
      " 0.92217327 0.78223496 0.58461538 0.7826087  0.52941176 0.4\n",
      " 0.87179487 0.93333333 0.93567251 0.80376766 0.75       0.6       ]\n",
      "F1 Score, micro = 0.9026584049570258\n",
      "F1 Score, macro = 0.8028485887112218\n",
      "F1 Score, avg = 0.903465985769893\n",
      "Average TEST loss: 0.3814066335558891, TEST accuracy: 90.29100157374101%\n"
     ]
    },
    {
     "data": {
      "text/plain": [
       "0.3814066335558891"
      ]
     },
     "execution_count": 102,
     "metadata": {},
     "output_type": "execute_result"
    }
   ],
   "source": [
    "from sklearn.metrics import f1_score\n",
    "def test_with_f1(model, iteratore, loss_f):\n",
    "    LABELS = list()\n",
    "    PREDICTIONS = list()\n",
    "    \n",
    "    \n",
    "    num_batches = len(iteratore)\n",
    "    test_loss = 0\n",
    "    accuracy = 0\n",
    "    model.eval()\n",
    "    with torch.no_grad():\n",
    "        for img, labels in tqdm(iteratore):\n",
    "            labels  = labels.type(torch.LongTensor)\n",
    "            img, labels = img.cuda(), labels.cuda()\n",
    "\n",
    "            pred = model(img)\n",
    "            test_loss += loss_f(pred, labels).item()\n",
    "            \n",
    "            \n",
    "            pred_indices = torch.argmax(pred, dim=1)\n",
    "            label_test = labels.cpu().float()\n",
    "            pred_indices = pred_indices.cpu().float()\n",
    "            distances = torch.where(pred_indices == label_test, torch.tensor(1), torch.tensor(0))\n",
    "            distances = distances.numpy()\n",
    "            accuracy += sum(distances)/len(label_test)\n",
    "            \n",
    "            PREDICTIONS += pred_indices.tolist()\n",
    "            LABELS += labels.tolist()\n",
    "            \n",
    "    print(f\"F1 Score, None = {f1_score(LABELS, PREDICTIONS, average=None)}\")\n",
    "    print(f\"F1 Score, micro = {f1_score(LABELS, PREDICTIONS, average='micro')}\")\n",
    "    print(f\"F1 Score, macro = {f1_score(LABELS, PREDICTIONS, average='macro')}\")\n",
    "    print(f\"F1 Score, avg = {f1_score(LABELS, PREDICTIONS, average='weighted')}\")\n",
    "            \n",
    "    test_loss = test_loss / num_batches\n",
    "    accuracy_tot = accuracy / num_batches\n",
    "    print(f\"Average TEST loss: {test_loss}, TEST accuracy: {accuracy_tot*100}%\")\n",
    "    return test_loss\n",
    "\n",
    "test_with_f1(model, val_loader, loss)"
   ]
  },
  {
   "cell_type": "markdown",
   "id": "4cc84ae0",
   "metadata": {},
   "source": [
    "## Final Plots - Visual Check"
   ]
  },
  {
   "cell_type": "code",
   "execution_count": 103,
   "id": "172e58f0",
   "metadata": {
    "scrolled": true
   },
   "outputs": [
    {
     "data": {
      "image/png": "[encoded data removed]",
      "text/plain": [
       "<Figure size 640x480 with 1 Axes>"
      ]
     },
     "metadata": {},
     "output_type": "display_data"
    }
   ],
   "source": [
    "    \n",
    "X = np.arange(len(train_losses))    \n",
    "Y = train_losses\n",
    "    \n",
    "    \n",
    "plt.plot(X, train_losses, label='TRAIN loss')\n",
    "plt.plot(X, test_losses, label='TEST loss')\n",
    "plt.legend()\n",
    "\n",
    "\n",
    "plt.savefig('model_losses_finale.png')\n",
    "plt.show()"
   ]
  },
  {
   "cell_type": "markdown",
   "id": "15f71ba2",
   "metadata": {},
   "source": [
    "## Final Considerations\n",
    "\n",
    "The project successfully demonstrated the potential of CNNs in automating the identification process and contributing to cetacean research and conservation. Despite the challenges faced, the trained CNN model showcased commendable performance in distinguishing between different cetacean species. Consequently, through the practical application of the knowledge acquired during the course of this study, we successfully adapted our expertise to a field that impassions us greatly. This endeavor allowed us to realize the transformative effects of deploying general knowledge within a domain of personal interest, thereby fostering an elevated level of engagement and dedication to our academic pursuits. It instilled in us an unwavering enthusiasm to continuously raise the bar and strive towards the attainment of our goals."
   ]
  }
 ],
 "metadata": {
  "kernelspec": {
   "display_name": "Python 3 (ipykernel)",
   "language": "python",
   "name": "python3"
  },
  "language_info": {
   "codemirror_mode": {
    "name": "ipython",
    "version": 3
   },
   "file_extension": ".py",
   "mimetype": "text/x-python",
   "name": "python",
   "nbconvert_exporter": "python",
   "pygments_lexer": "ipython3",
   "version": "3.9.7"
  }
 },
 "nbformat": 4,
 "nbformat_minor": 5
}
