{
 "cells": [
  {
   "cell_type": "code",
   "execution_count": 1,
   "id": "2b6a7d98",
   "metadata": {},
   "outputs": [],
   "source": [
    "import torch\n",
    "import matplotlib.pyplot as plt\n",
    "import torch.nn as nn\n",
    "import torchvision\n",
    "from PIL import Image\n",
    "from torch import optim\n",
    "from torch.utils.data import Dataset, DataLoader\n",
    "import pandas as pd\n",
    "from glob import glob\n",
    "from torchvision import datasets, transforms, models\n",
    "from torchvision.datasets import ImageFolder\n",
    "import numpy as np\n",
    "from torchvision.transforms import transforms\n",
    "\n",
    "from tqdm import tqdm"
   ]
  },
  {
   "cell_type": "markdown",
   "id": "1c332c9a",
   "metadata": {
    "scrolled": true
   },
   "source": [
    "!pip install matplotlib pandas"
   ]
  },
  {
   "cell_type": "code",
   "execution_count": 2,
   "id": "57d7334a",
   "metadata": {},
   "outputs": [
    {
     "name": "stdout",
     "output_type": "stream",
     "text": [
      "Requirement already satisfied: scikit-learn in /opt/conda/lib/python3.10/site-packages (1.2.2)\n",
      "Requirement already satisfied: scipy>=1.3.2 in /opt/conda/lib/python3.10/site-packages (from scikit-learn) (1.10.1)\n",
      "Requirement already satisfied: threadpoolctl>=2.0.0 in /opt/conda/lib/python3.10/site-packages (from scikit-learn) (3.1.0)\n",
      "Requirement already satisfied: joblib>=1.1.1 in /opt/conda/lib/python3.10/site-packages (from scikit-learn) (1.2.0)\n",
      "Requirement already satisfied: numpy>=1.17.3 in /opt/conda/lib/python3.10/site-packages (from scikit-learn) (1.22.3)\n",
      "\u001b[33mWARNING: Running pip as the 'root' user can result in broken permissions and conflicting behaviour with the system package manager. It is recommended to use a virtual environment instead: https://pip.pypa.io/warnings/venv\u001b[0m\u001b[33m\n",
      "\u001b[0m"
     ]
    }
   ],
   "source": [
    "!pip install scikit-learn"
   ]
  },
  {
   "cell_type": "markdown",
   "id": "f49fb65a",
   "metadata": {},
   "source": [
    "Downloading and Loading the pre processed datasets. Merge them together using Concatenate dataset."
   ]
  },
  {
   "cell_type": "code",
   "execution_count": 125,
   "id": "5c213cb2",
   "metadata": {
    "scrolled": true
   },
   "outputs": [
    {
     "name": "stdout",
     "output_type": "stream",
     "text": [
      "--2023-05-15 20:35:07--  https://docs.google.com/uc?export=download&confirm=&id=1-3QUz3mLbMtIAeq_7UYZsN-_HLDTv6Xp\n",
      "Resolving docs.google.com (docs.google.com)... 172.217.161.206, 2404:6800:400a:805::200e\n",
      "Connecting to docs.google.com (docs.google.com)|172.217.161.206|:443... connected.\n",
      "HTTP request sent, awaiting response... 303 See Other\n",
      "Location: https://doc-0k-94-docs.googleusercontent.com/docs/securesc/ha0ro937gcuc7l7deffksulhg5h7mbp1/lt3i7h58th7agoi94nsj2253thb6r1bg/1684182900000/00126560755885081018/*/1-3QUz3mLbMtIAeq_7UYZsN-_HLDTv6Xp?e=download&uuid=d2b7c12a-a2de-4e6a-b48d-44bdd3556c53 [following]\n",
      "Warning: wildcards not supported in HTTP.\n",
      "--2023-05-15 20:35:08--  https://doc-0k-94-docs.googleusercontent.com/docs/securesc/ha0ro937gcuc7l7deffksulhg5h7mbp1/lt3i7h58th7agoi94nsj2253thb6r1bg/1684182900000/00126560755885081018/*/1-3QUz3mLbMtIAeq_7UYZsN-_HLDTv6Xp?e=download&uuid=d2b7c12a-a2de-4e6a-b48d-44bdd3556c53\n",
      "Resolving doc-0k-94-docs.googleusercontent.com (doc-0k-94-docs.googleusercontent.com)... 172.217.161.225, 2404:6800:400a:80a::2001\n",
      "Connecting to doc-0k-94-docs.googleusercontent.com (doc-0k-94-docs.googleusercontent.com)|172.217.161.225|:443... connected.\n",
      "HTTP request sent, awaiting response... 200 OK\n",
      "Length: 6024922021 (5.6G) [application/x-zip]\n",
      "Saving to: ‘31_41.pt’\n",
      "\n",
      "31_41.pt            100%[===================>]   5.61G  29.7MB/s    in 2m 57s  \n",
      "\n",
      "2023-05-15 20:38:05 (32.5 MB/s) - ‘31_41.pt’ saved [6024922021/6024922021]\n",
      "\n"
     ]
    }
   ],
   "source": [
    "!wget --load-cookies /tmp/cookies.txt \"https://docs.google.com/uc?export=download&confirm=$(wget --quiet --save-cookies /tmp/cookies.txt --keep-session-cookies --no-check-certificate 'https://docs.google.com/uc?export=download&id=FILEID' -O- | sed -rn 's/.confirm=([0-9A-Za-z_]+)./\\1\\n/p')&id=1-3QUz3mLbMtIAeq_7UYZsN-_HLDTv6Xp\" -O '31_41.pt' && rm -rf /tmp/cookies.txt"
   ]
  },
  {
   "cell_type": "code",
   "execution_count": 8,
   "id": "1faf728b",
   "metadata": {},
   "outputs": [
    {
     "name": "stdout",
     "output_type": "stream",
     "text": [
      "Reading package lists... Done\n",
      "Building dependency tree       \n",
      "Reading state information... Done\n",
      "Suggested packages:\n",
      "  zip\n",
      "The following NEW packages will be installed:\n",
      "  unzip\n",
      "0 upgraded, 1 newly installed, 0 to remove and 44 not upgraded.\n",
      "Need to get 168 kB of archives.\n",
      "After this operation, 567 kB of additional disk space will be used.\n",
      "Get:1 http://archive.ubuntu.com/ubuntu bionic-updates/main amd64 unzip amd64 6.0-21ubuntu1.2 [168 kB]\n",
      "Fetched 168 kB in 1s (116 kB/s) \n",
      "debconf: delaying package configuration, since apt-utils is not installed\n",
      "Selecting previously unselected package unzip.\n",
      "(Reading database ... 13495 files and directories currently installed.)\n",
      "Preparing to unpack .../unzip_6.0-21ubuntu1.2_amd64.deb ...\n",
      "Unpacking unzip (6.0-21ubuntu1.2) ...\n",
      "Setting up unzip (6.0-21ubuntu1.2) ...\n",
      "Processing triggers for mime-support (3.60ubuntu1) ...\n"
     ]
    }
   ],
   "source": [
    "!sudo apt-get install unzip"
   ]
  },
  {
   "cell_type": "code",
   "execution_count": 158,
   "id": "68b48816",
   "metadata": {},
   "outputs": [],
   "source": [
    "import os\n",
    "\n",
    "class ImageDatasetVGG(Dataset):\n",
    "    def __init__(self, annotations_file, img_dir, transform=None):\n",
    "        self.img_labels = annotations_file\n",
    "        self.img_dir = img_dir\n",
    "        self.transform = transform\n",
    "        self.pairs = list()\n",
    "\n",
    "        for idx in tqdm(range(len(annotations_file))):\n",
    "\n",
    "            img_path = os.path.join(self.img_dir, self.img_labels.iloc[idx, 0])\n",
    "            image = Image.open(img_path).convert('RGB') ## this is being done because before we were dealing just with greyscale images 😦\n",
    "            label = self.img_labels.iloc[idx, 1]\n",
    "\n",
    "            image = self.transform(image)\n",
    "            self.pairs.append((image, label))\n",
    "\n",
    "\n",
    "\n",
    "    def __len__(self):\n",
    "        return len(self.img_labels)\n",
    "\n",
    "    def __getitem__(self, idx):\n",
    "        pair = self.pairs[idx]\n",
    "        \n",
    "        print(os.path.join(self.img_dir, self.img_labels.iloc[idx, 0]))\n",
    "\n",
    "        image, label = pair[0], pair[1]\n",
    "        return image, label"
   ]
  },
  {
   "cell_type": "code",
   "execution_count": 160,
   "id": "1d3883f2",
   "metadata": {},
   "outputs": [],
   "source": [
    "data1 = torch.load('firstslice.pt')\n",
    "#data2 = torch.load('from_40.pt')\n",
    "#data3 = torch.load('21_31.pt')\n",
    "#data4 = torch.load('31_41.pt')\n",
    "#data5 = torch.load()"
   ]
  },
  {
   "cell_type": "code",
   "execution_count": 161,
   "id": "4ca85417",
   "metadata": {},
   "outputs": [
    {
     "name": "stdout",
     "output_type": "stream",
     "text": [
      "/content/4ba6bf60270210.jpg\n"
     ]
    },
    {
     "data": {
      "text/plain": [
       "(tensor([[[0.5137, 0.5020, 0.6706,  ..., 0.7059, 0.7725, 0.7294],\n",
       "          [0.5686, 0.5529, 0.9333,  ..., 0.6314, 0.6353, 0.6392],\n",
       "          [0.5373, 0.6431, 0.9529,  ..., 0.5725, 0.5333, 0.5412],\n",
       "          ...,\n",
       "          [0.9412, 0.9490, 0.9490,  ..., 0.4667, 0.6039, 0.8000],\n",
       "          [0.9176, 0.9373, 0.9412,  ..., 0.8549, 0.8745, 0.9020],\n",
       "          [0.8784, 0.8980, 0.9216,  ..., 0.9843, 0.9882, 0.9882]],\n",
       " \n",
       "         [[0.6235, 0.6275, 0.7490,  ..., 0.7882, 0.8314, 0.7843],\n",
       "          [0.6784, 0.6627, 0.9529,  ..., 0.7294, 0.7333, 0.7333],\n",
       "          [0.6431, 0.7294, 0.9647,  ..., 0.6667, 0.6353, 0.6510],\n",
       "          ...,\n",
       "          [0.9373, 0.9412, 0.9412,  ..., 0.4902, 0.6353, 0.8157],\n",
       "          [0.9137, 0.9294, 0.9333,  ..., 0.8549, 0.8863, 0.9020],\n",
       "          [0.8706, 0.8941, 0.9137,  ..., 0.9843, 0.9882, 0.9882]],\n",
       " \n",
       "         [[0.7608, 0.7569, 0.8235,  ..., 0.8980, 0.9137, 0.8824],\n",
       "          [0.8000, 0.7804, 0.9647,  ..., 0.8471, 0.8588, 0.8471],\n",
       "          [0.7725, 0.8392, 0.9765,  ..., 0.7922, 0.7686, 0.7843],\n",
       "          ...,\n",
       "          [0.9569, 0.9608, 0.9608,  ..., 0.5725, 0.7098, 0.8549],\n",
       "          [0.9333, 0.9490, 0.9529,  ..., 0.8902, 0.9098, 0.9333],\n",
       "          [0.8941, 0.9137, 0.9333,  ..., 0.9882, 0.9882, 0.9922]]]),\n",
       " 1)"
      ]
     },
     "execution_count": 161,
     "metadata": {},
     "output_type": "execute_result"
    }
   ],
   "source": [
    "data1[1]"
   ]
  },
  {
   "cell_type": "code",
   "execution_count": 129,
   "id": "faae3eb3",
   "metadata": {},
   "outputs": [],
   "source": [
    "DATA = torch.utils.data.ConcatDataset([data1, data2, data3, data4])"
   ]
  },
  {
   "cell_type": "code",
   "execution_count": 130,
   "id": "87833b8f",
   "metadata": {},
   "outputs": [],
   "source": [
    "val_size = int(len(DATA) - len(DATA)*0.8)"
   ]
  },
  {
   "cell_type": "code",
   "execution_count": 131,
   "id": "cb1dd437",
   "metadata": {},
   "outputs": [],
   "source": [
    "image_train, image_val = torch.utils.data.random_split(DATA, (len(DATA)- val_size, val_size)) "
   ]
  },
  {
   "cell_type": "code",
   "execution_count": 142,
   "id": "53964b51",
   "metadata": {},
   "outputs": [
    {
     "data": {
      "text/plain": [
       "35033"
      ]
     },
     "execution_count": 142,
     "metadata": {},
     "output_type": "execute_result"
    }
   ],
   "source": [
    "len(DATA)"
   ]
  },
  {
   "cell_type": "code",
   "execution_count": 118,
   "id": "fab8f2d2",
   "metadata": {},
   "outputs": [
    {
     "data": {
      "text/plain": [
       "(tensor([[[0.7804, 0.7725, 0.7608,  ..., 0.6784, 0.6627, 0.6471],\n",
       "          [0.7529, 0.7255, 0.7098,  ..., 0.7216, 0.7137, 0.7020],\n",
       "          [0.7294, 0.7098, 0.7059,  ..., 0.7373, 0.7333, 0.7216],\n",
       "          ...,\n",
       "          [0.6824, 0.6784, 0.6745,  ..., 0.5569, 0.5569, 0.5647],\n",
       "          [0.6471, 0.6471, 0.6471,  ..., 0.5647, 0.5686, 0.5765],\n",
       "          [0.6235, 0.6235, 0.6235,  ..., 0.5843, 0.5882, 0.5922]],\n",
       " \n",
       "         [[0.7569, 0.7569, 0.7529,  ..., 0.6784, 0.6627, 0.6510],\n",
       "          [0.7451, 0.7255, 0.7098,  ..., 0.7216, 0.7098, 0.6980],\n",
       "          [0.7294, 0.7098, 0.7098,  ..., 0.7294, 0.7255, 0.7216],\n",
       "          ...,\n",
       "          [0.6784, 0.6784, 0.6784,  ..., 0.5569, 0.5608, 0.5608],\n",
       "          [0.6510, 0.6510, 0.6510,  ..., 0.5647, 0.5686, 0.5686],\n",
       "          [0.6196, 0.6196, 0.6196,  ..., 0.5804, 0.5843, 0.5882]],\n",
       " \n",
       "         [[0.7608, 0.7608, 0.7529,  ..., 0.6784, 0.6667, 0.6549],\n",
       "          [0.7412, 0.7255, 0.7098,  ..., 0.7216, 0.7137, 0.7059],\n",
       "          [0.7294, 0.7098, 0.7098,  ..., 0.7333, 0.7294, 0.7216],\n",
       "          ...,\n",
       "          [0.6784, 0.6784, 0.6784,  ..., 0.5608, 0.5608, 0.5608],\n",
       "          [0.6510, 0.6510, 0.6471,  ..., 0.5686, 0.5686, 0.5725],\n",
       "          [0.6196, 0.6235, 0.6235,  ..., 0.5843, 0.5882, 0.5922]]]),\n",
       " 2)"
      ]
     },
     "execution_count": 118,
     "metadata": {},
     "output_type": "execute_result"
    }
   ],
   "source": [
    "image_train[1]"
   ]
  },
  {
   "cell_type": "code",
   "execution_count": 133,
   "id": "f6924121",
   "metadata": {},
   "outputs": [],
   "source": [
    "Y = list()\n",
    "for i in range(len(image_train)):\n",
    "    Y.append(image_train[i][1])\n",
    "    \n",
    "labels_on_train = pd.Series(Y)\n"
   ]
  },
  {
   "cell_type": "code",
   "execution_count": 134,
   "id": "e3b532fb",
   "metadata": {},
   "outputs": [],
   "source": [
    "unique_new_species = labels_on_train.unique()\n",
    "train_labels_np = np.array(labels_on_train)"
   ]
  },
  {
   "cell_type": "code",
   "execution_count": 135,
   "id": "f81a168c",
   "metadata": {},
   "outputs": [],
   "source": [
    "import torch.utils.data as data\n",
    "from collections import Counter\n",
    "\n",
    "\n",
    "# calcola il numero di campioni per ogni classe nel set di training\n",
    "class_counts = Counter(labels_on_train)\n",
    "n_samples = len(train_labels_np)\n",
    "\n",
    "# calcola i pesi per ogni classe\n",
    "weights = [1.0 / class_counts[x] for x in train_labels_np]\n",
    "\n",
    "# crea un sampler ponderato solo per il set di training\n",
    "sampler = data.WeightedRandomSampler(weights, n_samples)"
   ]
  },
  {
   "cell_type": "code",
   "execution_count": 136,
   "id": "b10d1d89",
   "metadata": {},
   "outputs": [],
   "source": [
    "train_loader = DataLoader(image_train, batch_size=32, sampler=sampler)\n",
    "val_loader = DataLoader(image_val, batch_size=32)"
   ]
  },
  {
   "cell_type": "code",
   "execution_count": 137,
   "id": "fa54c2b4",
   "metadata": {},
   "outputs": [],
   "source": [
    "class CNN(nn.Module):\n",
    "    \n",
    "    \n",
    "    def __init__(self, num_classes=30):\n",
    "        super().__init__()\n",
    "        \n",
    "        self.ConvLayer1 = nn.Sequential(\n",
    "            nn.Conv2d(3, 32, kernel_size=5, stride=2, padding=1),\n",
    "            nn.BatchNorm2d(32),\n",
    "            nn.ReLU())\n",
    "        \n",
    "        self.ConvLayer2 = nn.Sequential(\n",
    "            nn.Conv2d(32, 32, kernel_size=3, stride=1, padding=1),\n",
    "            nn.BatchNorm2d(32),\n",
    "            nn.MaxPool2d((2,2)),\n",
    "            nn.ReLU())\n",
    "        \n",
    "        self.ConvLayer3 = nn.Sequential(\n",
    "            nn.Conv2d(32, 64, kernel_size=3, stride=2, padding=1),\n",
    "            nn.BatchNorm2d(64),\n",
    "            nn.ReLU())\n",
    "        \n",
    "        self.ConvLayer4 = nn.Sequential(\n",
    "            nn.Conv2d(64, 64, kernel_size=3, stride=1, padding=1),\n",
    "            nn.BatchNorm2d(64),\n",
    "            nn.MaxPool2d((2,2)),\n",
    "            nn.ReLU())\n",
    "        \n",
    "        self.ConvLayer5 = nn.Sequential(\n",
    "            nn.Conv2d(64, 128, kernel_size=3, stride=1, padding=1),\n",
    "            nn.BatchNorm2d(128),   \n",
    "            nn.ReLU())\n",
    "        \n",
    "        self.ConvLayer6 = nn.Sequential(\n",
    "            nn.Conv2d(128, 256, kernel_size=3, stride=1, padding=1),\n",
    "            nn.BatchNorm2d(256),\n",
    "            nn.MaxPool2d((2,2)),\n",
    "            nn.ReLU())\n",
    "        \n",
    "       \n",
    "        \n",
    "        self.fc1 = nn.Sequential(\n",
    "            nn.Dropout(0.5),\n",
    "            nn.Linear(12544, 2048),\n",
    "            nn.ReLU())\n",
    "        self.fc2 = nn.Sequential(\n",
    "            nn.Dropout(0.3),\n",
    "            nn.Linear(2048, 256),\n",
    "            nn.ReLU())\n",
    "        self.fc3 = nn.Sequential(\n",
    "            nn.Linear(256, num_classes))\n",
    "        \n",
    "    \n",
    "    \n",
    "    def forward(self, inputs):\n",
    "        \n",
    "        x = self.ConvLayer1(inputs)\n",
    "        x = self.ConvLayer2(x)\n",
    "        x = self.ConvLayer3(x)\n",
    "        x = self.ConvLayer4(x)\n",
    "        x = self.ConvLayer5(x)\n",
    "        x = self.ConvLayer6(x)\n",
    "\n",
    "        x = x.reshape(x.size(0), -1)\n",
    "        \n",
    "        \n",
    "        x = self.fc1(x)\n",
    "        x = self.fc2(x)\n",
    "        \n",
    "        return self.fc3(x)"
   ]
  },
  {
   "cell_type": "code",
   "execution_count": 38,
   "id": "6f02df11",
   "metadata": {},
   "outputs": [],
   "source": [
    "class VGG16(nn.Module):\n",
    "    def __init__(self, num_classes=30):\n",
    "        super(VGG16, self).__init__()\n",
    "        self.layer1 = nn.Sequential(\n",
    "            nn.Conv2d(3, 64, kernel_size=3, stride=1, padding=1),\n",
    "            nn.BatchNorm2d(64),\n",
    "            nn.ReLU())\n",
    "        self.layer2 = nn.Sequential(\n",
    "            nn.Conv2d(64, 64, kernel_size=3, stride=2, padding=1),\n",
    "            nn.BatchNorm2d(64),\n",
    "            nn.ReLU())\n",
    "        self.layer3 = nn.Sequential(\n",
    "            nn.Conv2d(64, 128, kernel_size=3, stride=1, padding=1),\n",
    "            nn.BatchNorm2d(128),\n",
    "            nn.ReLU())\n",
    "        self.layer4 = nn.Sequential(\n",
    "            nn.Conv2d(128, 128, kernel_size=3, stride=2, padding=1),\n",
    "            nn.BatchNorm2d(128),\n",
    "            nn.ReLU())\n",
    "        self.layer5 = nn.Sequential(\n",
    "            nn.Conv2d(128, 256, kernel_size=3, stride=1, padding=1),\n",
    "            nn.BatchNorm2d(256),\n",
    "            nn.ReLU())\n",
    "        self.layer6 = nn.Sequential(\n",
    "            nn.Conv2d(256, 256, kernel_size=3, stride=1, padding=1),\n",
    "            nn.BatchNorm2d(256),\n",
    "            nn.ReLU())\n",
    "        self.layer7 = nn.Sequential(\n",
    "            nn.Conv2d(256, 256, kernel_size=3, stride=2, padding=1),\n",
    "            nn.BatchNorm2d(256),\n",
    "            nn.ReLU())\n",
    "        self.layer8 = nn.Sequential(\n",
    "            nn.Conv2d(256, 512, kernel_size=3, stride=1, padding=1),\n",
    "            nn.BatchNorm2d(512),\n",
    "            nn.ReLU())\n",
    "        self.layer9 = nn.Sequential(\n",
    "            nn.Conv2d(512, 512, kernel_size=3, stride=1, padding=1),\n",
    "            nn.BatchNorm2d(512),\n",
    "            nn.ReLU())\n",
    "        self.layer10 = nn.Sequential(\n",
    "            nn.Conv2d(512, 512, kernel_size=3, stride=2, padding=1),\n",
    "            nn.BatchNorm2d(512),\n",
    "            nn.ReLU())\n",
    "        self.layer11 = nn.Sequential(\n",
    "            nn.Conv2d(512, 512, kernel_size=3, stride=1, padding=1),\n",
    "            nn.BatchNorm2d(512),\n",
    "            nn.ReLU())\n",
    "        self.layer12 = nn.Sequential(\n",
    "            nn.Conv2d(512, 512, kernel_size=3, stride=1, padding=1),\n",
    "            nn.BatchNorm2d(512),\n",
    "            nn.ReLU())\n",
    "        self.layer13 = nn.Sequential(\n",
    "            nn.Conv2d(512, 512, kernel_size=3, stride=1, padding=1),\n",
    "            nn.BatchNorm2d(512),\n",
    "            nn.ReLU(),\n",
    "            nn.MaxPool2d(kernel_size=2, stride=2))\n",
    "        self.fc = nn.Sequential(\n",
    "            nn.Dropout(0.01),\n",
    "            nn.Linear(25088, 4096),\n",
    "            nn.ReLU())\n",
    "        self.fc1 = nn.Sequential(\n",
    "            nn.Dropout(0.01),\n",
    "            nn.Linear(4096, 4096),\n",
    "            nn.ReLU())\n",
    "        self.fc2 = nn.Sequential(\n",
    "            nn.Linear(4096, num_classes))\n",
    "\n",
    "    def forward(self, x):\n",
    "        out = self.layer1(x)\n",
    "        out = self.layer2(out)\n",
    "        out = self.layer3(out)\n",
    "        out = self.layer4(out)\n",
    "        out = self.layer5(out)\n",
    "        out = self.layer6(out)\n",
    "        out = self.layer7(out)\n",
    "        out = self.layer8(out)\n",
    "        out = self.layer9(out)\n",
    "        out = self.layer10(out)\n",
    "        out = self.layer11(out)\n",
    "        out = self.layer12(out)\n",
    "        out = self.layer13(out)\n",
    "        out = out.reshape(out.size(0), -1)\n",
    "        out = self.fc(out)\n",
    "        out = self.fc1(out)\n",
    "        out = self.fc2(out)\n",
    "        return out"
   ]
  },
  {
   "cell_type": "code",
   "execution_count": 138,
   "id": "01a43a6e",
   "metadata": {
    "scrolled": true
   },
   "outputs": [
    {
     "data": {
      "text/plain": [
       "CNN(\n",
       "  (ConvLayer1): Sequential(\n",
       "    (0): Conv2d(3, 32, kernel_size=(5, 5), stride=(2, 2), padding=(1, 1))\n",
       "    (1): BatchNorm2d(32, eps=1e-05, momentum=0.1, affine=True, track_running_stats=True)\n",
       "    (2): ReLU()\n",
       "  )\n",
       "  (ConvLayer2): Sequential(\n",
       "    (0): Conv2d(32, 32, kernel_size=(3, 3), stride=(1, 1), padding=(1, 1))\n",
       "    (1): BatchNorm2d(32, eps=1e-05, momentum=0.1, affine=True, track_running_stats=True)\n",
       "    (2): MaxPool2d(kernel_size=(2, 2), stride=(2, 2), padding=0, dilation=1, ceil_mode=False)\n",
       "    (3): ReLU()\n",
       "  )\n",
       "  (ConvLayer3): Sequential(\n",
       "    (0): Conv2d(32, 64, kernel_size=(3, 3), stride=(2, 2), padding=(1, 1))\n",
       "    (1): BatchNorm2d(64, eps=1e-05, momentum=0.1, affine=True, track_running_stats=True)\n",
       "    (2): ReLU()\n",
       "  )\n",
       "  (ConvLayer4): Sequential(\n",
       "    (0): Conv2d(64, 64, kernel_size=(3, 3), stride=(1, 1), padding=(1, 1))\n",
       "    (1): BatchNorm2d(64, eps=1e-05, momentum=0.1, affine=True, track_running_stats=True)\n",
       "    (2): MaxPool2d(kernel_size=(2, 2), stride=(2, 2), padding=0, dilation=1, ceil_mode=False)\n",
       "    (3): ReLU()\n",
       "  )\n",
       "  (ConvLayer5): Sequential(\n",
       "    (0): Conv2d(64, 128, kernel_size=(3, 3), stride=(1, 1), padding=(1, 1))\n",
       "    (1): BatchNorm2d(128, eps=1e-05, momentum=0.1, affine=True, track_running_stats=True)\n",
       "    (2): ReLU()\n",
       "  )\n",
       "  (ConvLayer6): Sequential(\n",
       "    (0): Conv2d(128, 256, kernel_size=(3, 3), stride=(1, 1), padding=(1, 1))\n",
       "    (1): BatchNorm2d(256, eps=1e-05, momentum=0.1, affine=True, track_running_stats=True)\n",
       "    (2): MaxPool2d(kernel_size=(2, 2), stride=(2, 2), padding=0, dilation=1, ceil_mode=False)\n",
       "    (3): ReLU()\n",
       "  )\n",
       "  (fc1): Sequential(\n",
       "    (0): Dropout(p=0.5, inplace=False)\n",
       "    (1): Linear(in_features=12544, out_features=2048, bias=True)\n",
       "    (2): ReLU()\n",
       "  )\n",
       "  (fc2): Sequential(\n",
       "    (0): Dropout(p=0.3, inplace=False)\n",
       "    (1): Linear(in_features=2048, out_features=256, bias=True)\n",
       "    (2): ReLU()\n",
       "  )\n",
       "  (fc3): Sequential(\n",
       "    (0): Linear(in_features=256, out_features=30, bias=True)\n",
       "  )\n",
       ")"
      ]
     },
     "execution_count": 138,
     "metadata": {},
     "output_type": "execute_result"
    }
   ],
   "source": [
    "#model = VGG16(30)\n",
    "model = CNN(30)\n",
    "\n",
    "model.cuda()"
   ]
  },
  {
   "cell_type": "code",
   "execution_count": 140,
   "id": "53af3169",
   "metadata": {},
   "outputs": [],
   "source": [
    "loss = nn.CrossEntropyLoss()\n",
    "\n",
    "criterion = optim.AdamW(model.parameters(), lr=0.00002)"
   ]
  },
  {
   "cell_type": "code",
   "execution_count": 15,
   "id": "adf6a00d",
   "metadata": {},
   "outputs": [],
   "source": [
    "def train(model, loss_f, optim, dataloader):\n",
    "    \n",
    "    model.train()\n",
    "    train_losses = list()\n",
    "    \n",
    "    train_loss = 0\n",
    "    n_batches = len(dataloader)\n",
    "    \n",
    "    for i, batch in enumerate(tqdm(dataloader)):\n",
    "        \n",
    "        \n",
    "        imgs, labels = batch[0], batch[1]\n",
    "        \n",
    "        labels  = labels.type(torch.LongTensor)\n",
    "        \n",
    "        imgs, labels = imgs.cuda(), labels.cuda()\n",
    "        \n",
    "        \n",
    "        ## -- forward pass -- ##\n",
    "        \n",
    "        preds = model(imgs)\n",
    "        \n",
    "        \n",
    "        ## -- computing the loss wrt G.T. -- ##\n",
    "        loss = loss_f(preds, labels)\n",
    "        \n",
    "        \n",
    "        ## -- Backpropagation -- ##\n",
    "        optim.zero_grad()\n",
    "        loss.backward()\n",
    "        optim.step()\n",
    "        \n",
    "        \n",
    "        train_losses.append(loss.item())\n",
    "        train_loss += loss.item()\n",
    "        \n",
    "    print(f\"Average TRAIN Loss :: {train_loss/n_batches} \")\n",
    "    \n",
    "    return train_loss/n_batches"
   ]
  },
  {
   "cell_type": "code",
   "execution_count": 141,
   "id": "67684d20",
   "metadata": {},
   "outputs": [],
   "source": [
    "def test(model, iteratore, loss_f):\n",
    "    num_batches = len(iteratore)\n",
    "    test_loss = 0\n",
    "    accuracy = 0\n",
    "    \n",
    "    test_losses = list()\n",
    "    \n",
    "    model.eval()\n",
    "    \n",
    "    \n",
    "    with torch.no_grad():\n",
    "        for i, batch in enumerate(tqdm(iteratore)):\n",
    "\n",
    "            img, labels = batch[0], batch[1]\n",
    "            labels  = labels.type(torch.LongTensor)\n",
    "            img, labels = img.cuda(), labels.cuda()\n",
    "\n",
    "            pred = model(img)\n",
    "            loss = loss_f(pred, labels)\n",
    "            test_loss += loss.item()\n",
    "            \n",
    "            \n",
    "            pred_indices = torch.argmax(pred, dim=1)\n",
    "            label_test = labels.cpu().float()\n",
    "            pred_indices = pred_indices.cpu().float()\n",
    "            distances = torch.where(pred_indices == label_test, torch.tensor(1), torch.tensor(0))\n",
    "            distances = distances.numpy()\n",
    "            accuracy += sum(distances)/len(label_test)\n",
    "            \n",
    "            \n",
    "            test_losses.append(loss.item())\n",
    "            \n",
    "    test_loss = test_loss / num_batches\n",
    "    accuracy_tot = accuracy / num_batches\n",
    "    \n",
    "    print(f\"Average TEST loss: {test_loss}, TEST accuracy: {accuracy_tot*100}%\")\n",
    "    return test_loss"
   ]
  },
  {
   "cell_type": "code",
   "execution_count": 153,
   "id": "77de23ff",
   "metadata": {
    "scrolled": false
   },
   "outputs": [
    {
     "name": "stdout",
     "output_type": "stream",
     "text": [
      "----- epoch 0 -----\n"
     ]
    },
    {
     "name": "stderr",
     "output_type": "stream",
     "text": [
      "100%|██████████| 876/876 [00:21<00:00, 41.55it/s]\n"
     ]
    },
    {
     "name": "stdout",
     "output_type": "stream",
     "text": [
      "Average TRAIN Loss :: 0.09187228396666751 \n"
     ]
    },
    {
     "name": "stderr",
     "output_type": "stream",
     "text": [
      "100%|██████████| 219/219 [00:01<00:00, 118.03it/s]\n"
     ]
    },
    {
     "name": "stdout",
     "output_type": "stream",
     "text": [
      "Average TEST loss: 0.44360331796347824, TEST accuracy: 87.32686453576865%\n",
      "\n",
      "\n",
      "----- epoch 1 -----\n"
     ]
    },
    {
     "name": "stderr",
     "output_type": "stream",
     "text": [
      "100%|██████████| 876/876 [00:21<00:00, 40.23it/s]\n"
     ]
    },
    {
     "name": "stdout",
     "output_type": "stream",
     "text": [
      "Average TRAIN Loss :: 0.08800604637339074 \n"
     ]
    },
    {
     "name": "stderr",
     "output_type": "stream",
     "text": [
      "100%|██████████| 219/219 [00:01<00:00, 117.78it/s]\n"
     ]
    },
    {
     "name": "stdout",
     "output_type": "stream",
     "text": [
      "Average TEST loss: 0.4721718266283132, TEST accuracy: 86.49828767123287%\n",
      "\n",
      "\n",
      "----- epoch 2 -----\n"
     ]
    },
    {
     "name": "stderr",
     "output_type": "stream",
     "text": [
      "100%|██████████| 876/876 [00:20<00:00, 43.75it/s]\n"
     ]
    },
    {
     "name": "stdout",
     "output_type": "stream",
     "text": [
      "Average TRAIN Loss :: 0.08181407769236153 \n"
     ]
    },
    {
     "name": "stderr",
     "output_type": "stream",
     "text": [
      "100%|██████████| 219/219 [00:01<00:00, 116.81it/s]\n"
     ]
    },
    {
     "name": "stdout",
     "output_type": "stream",
     "text": [
      "Average TEST loss: 0.4322220886202708, TEST accuracy: 88.05365296803653%\n",
      "\n",
      "\n",
      "----- epoch 3 -----\n"
     ]
    },
    {
     "name": "stderr",
     "output_type": "stream",
     "text": [
      "100%|██████████| 876/876 [00:21<00:00, 41.39it/s]\n"
     ]
    },
    {
     "name": "stdout",
     "output_type": "stream",
     "text": [
      "Average TRAIN Loss :: 0.08015843814868293 \n"
     ]
    },
    {
     "name": "stderr",
     "output_type": "stream",
     "text": [
      "100%|██████████| 219/219 [00:01<00:00, 120.29it/s]\n"
     ]
    },
    {
     "name": "stdout",
     "output_type": "stream",
     "text": [
      "Average TEST loss: 0.43559302112351267, TEST accuracy: 88.18302891933028%\n",
      "\n",
      "\n",
      "----- epoch 4 -----\n"
     ]
    },
    {
     "name": "stderr",
     "output_type": "stream",
     "text": [
      "100%|██████████| 876/876 [00:18<00:00, 46.41it/s]\n"
     ]
    },
    {
     "name": "stdout",
     "output_type": "stream",
     "text": [
      "Average TRAIN Loss :: 0.07486192043179637 \n"
     ]
    },
    {
     "name": "stderr",
     "output_type": "stream",
     "text": [
      "100%|██████████| 219/219 [00:01<00:00, 124.72it/s]\n"
     ]
    },
    {
     "name": "stdout",
     "output_type": "stream",
     "text": [
      "Average TEST loss: 0.441295545003866, TEST accuracy: 87.73972602739725%\n",
      "\n",
      "\n",
      "----- epoch 5 -----\n"
     ]
    },
    {
     "name": "stderr",
     "output_type": "stream",
     "text": [
      "100%|██████████| 876/876 [00:20<00:00, 42.52it/s]\n"
     ]
    },
    {
     "name": "stdout",
     "output_type": "stream",
     "text": [
      "Average TRAIN Loss :: 0.07312587723210369 \n"
     ]
    },
    {
     "name": "stderr",
     "output_type": "stream",
     "text": [
      "100%|██████████| 219/219 [00:01<00:00, 119.34it/s]\n"
     ]
    },
    {
     "name": "stdout",
     "output_type": "stream",
     "text": [
      "Average TEST loss: 0.43750685899088915, TEST accuracy: 87.75494672754947%\n",
      "\n",
      "\n",
      "----- epoch 6 -----\n"
     ]
    },
    {
     "name": "stderr",
     "output_type": "stream",
     "text": [
      "100%|██████████| 876/876 [00:19<00:00, 45.32it/s]\n"
     ]
    },
    {
     "name": "stdout",
     "output_type": "stream",
     "text": [
      "Average TRAIN Loss :: 0.0716190671816162 \n"
     ]
    },
    {
     "name": "stderr",
     "output_type": "stream",
     "text": [
      "100%|██████████| 219/219 [00:01<00:00, 119.23it/s]\n"
     ]
    },
    {
     "name": "stdout",
     "output_type": "stream",
     "text": [
      "Average TEST loss: 0.4584465459558994, TEST accuracy: 87.1689497716895%\n",
      "\n",
      "\n",
      "----- epoch 7 -----\n"
     ]
    },
    {
     "name": "stderr",
     "output_type": "stream",
     "text": [
      "100%|██████████| 876/876 [00:21<00:00, 41.29it/s]\n"
     ]
    },
    {
     "name": "stdout",
     "output_type": "stream",
     "text": [
      "Average TRAIN Loss :: 0.06909668413174262 \n"
     ]
    },
    {
     "name": "stderr",
     "output_type": "stream",
     "text": [
      "100%|██████████| 219/219 [00:01<00:00, 118.36it/s]\n"
     ]
    },
    {
     "name": "stdout",
     "output_type": "stream",
     "text": [
      "Average TEST loss: 0.41889310264151935, TEST accuracy: 88.6396499238965%\n",
      "\n",
      "\n",
      "----- epoch 8 -----\n"
     ]
    },
    {
     "name": "stderr",
     "output_type": "stream",
     "text": [
      "100%|██████████| 876/876 [00:21<00:00, 41.38it/s]\n"
     ]
    },
    {
     "name": "stdout",
     "output_type": "stream",
     "text": [
      "Average TRAIN Loss :: 0.070438572813727 \n"
     ]
    },
    {
     "name": "stderr",
     "output_type": "stream",
     "text": [
      "100%|██████████| 219/219 [00:01<00:00, 118.68it/s]\n"
     ]
    },
    {
     "name": "stdout",
     "output_type": "stream",
     "text": [
      "Average TEST loss: 0.4475651004917273, TEST accuracy: 87.56944444444444%\n",
      "\n",
      "\n",
      "----- epoch 9 -----\n"
     ]
    },
    {
     "name": "stderr",
     "output_type": "stream",
     "text": [
      "100%|██████████| 876/876 [00:19<00:00, 43.94it/s]\n"
     ]
    },
    {
     "name": "stdout",
     "output_type": "stream",
     "text": [
      "Average TRAIN Loss :: 0.06512144688978264 \n"
     ]
    },
    {
     "name": "stderr",
     "output_type": "stream",
     "text": [
      "100%|██████████| 219/219 [00:01<00:00, 115.78it/s]"
     ]
    },
    {
     "name": "stdout",
     "output_type": "stream",
     "text": [
      "Average TEST loss: 0.4318255803050244, TEST accuracy: 88.29718417047184%\n",
      "\n",
      "\n"
     ]
    },
    {
     "name": "stderr",
     "output_type": "stream",
     "text": [
      "\n"
     ]
    }
   ],
   "source": [
    "#min_loss = 100\n",
    "\n",
    "#train_losses = list()\n",
    "#test_losses = list()\n",
    "\n",
    "for epoch in range(10):\n",
    "    print(f\"----- epoch {epoch} -----\")\n",
    "    train_losses.append(train(model, loss, criterion, train_loader))\n",
    "    t_loss = test(model, val_loader, loss)\n",
    "    \n",
    "    test_losses.append(t_loss)\n",
    "    \n",
    "    if t_loss < min_loss:\n",
    "        min_loss = t_loss\n",
    "        torch.save(model, 'checkpoint_cnn_35k_images.pth')\n",
    "    print(\"\\n\")\n",
    "    "
   ]
  },
  {
   "cell_type": "code",
   "execution_count": 88,
   "id": "e8e9f8ea",
   "metadata": {},
   "outputs": [
    {
     "data": {
      "text/plain": [
       "CNN(\n",
       "  (ConvLayer1): Sequential(\n",
       "    (0): Conv2d(3, 32, kernel_size=(5, 5), stride=(2, 2), padding=(1, 1))\n",
       "    (1): BatchNorm2d(32, eps=1e-05, momentum=0.1, affine=True, track_running_stats=True)\n",
       "    (2): ReLU()\n",
       "  )\n",
       "  (ConvLayer2): Sequential(\n",
       "    (0): Conv2d(32, 32, kernel_size=(3, 3), stride=(1, 1), padding=(1, 1))\n",
       "    (1): BatchNorm2d(32, eps=1e-05, momentum=0.1, affine=True, track_running_stats=True)\n",
       "    (2): MaxPool2d(kernel_size=(2, 2), stride=(2, 2), padding=0, dilation=1, ceil_mode=False)\n",
       "    (3): ReLU()\n",
       "  )\n",
       "  (ConvLayer3): Sequential(\n",
       "    (0): Conv2d(32, 64, kernel_size=(3, 3), stride=(2, 2), padding=(1, 1))\n",
       "    (1): BatchNorm2d(64, eps=1e-05, momentum=0.1, affine=True, track_running_stats=True)\n",
       "    (2): ReLU()\n",
       "  )\n",
       "  (ConvLayer4): Sequential(\n",
       "    (0): Conv2d(64, 64, kernel_size=(3, 3), stride=(1, 1), padding=(1, 1))\n",
       "    (1): BatchNorm2d(64, eps=1e-05, momentum=0.1, affine=True, track_running_stats=True)\n",
       "    (2): MaxPool2d(kernel_size=(2, 2), stride=(2, 2), padding=0, dilation=1, ceil_mode=False)\n",
       "    (3): ReLU()\n",
       "  )\n",
       "  (ConvLayer5): Sequential(\n",
       "    (0): Conv2d(64, 128, kernel_size=(3, 3), stride=(1, 1), padding=(1, 1))\n",
       "    (1): BatchNorm2d(128, eps=1e-05, momentum=0.1, affine=True, track_running_stats=True)\n",
       "    (2): ReLU()\n",
       "  )\n",
       "  (ConvLayer6): Sequential(\n",
       "    (0): Conv2d(128, 256, kernel_size=(3, 3), stride=(1, 1), padding=(1, 1))\n",
       "    (1): BatchNorm2d(256, eps=1e-05, momentum=0.1, affine=True, track_running_stats=True)\n",
       "    (2): MaxPool2d(kernel_size=(2, 2), stride=(2, 2), padding=0, dilation=1, ceil_mode=False)\n",
       "    (3): ReLU()\n",
       "  )\n",
       "  (fc1): Sequential(\n",
       "    (0): Dropout(p=0.5, inplace=False)\n",
       "    (1): Linear(in_features=12544, out_features=2048, bias=True)\n",
       "    (2): ReLU()\n",
       "  )\n",
       "  (fc2): Sequential(\n",
       "    (0): Dropout(p=0.3, inplace=False)\n",
       "    (1): Linear(in_features=2048, out_features=256, bias=True)\n",
       "    (2): ReLU()\n",
       "  )\n",
       "  (fc3): Sequential(\n",
       "    (0): Linear(in_features=256, out_features=30, bias=True)\n",
       "  )\n",
       ")"
      ]
     },
     "execution_count": 88,
     "metadata": {},
     "output_type": "execute_result"
    }
   ],
   "source": [
    "model"
   ]
  },
  {
   "cell_type": "code",
   "execution_count": 145,
   "id": "24c4a80c",
   "metadata": {},
   "outputs": [],
   "source": [
    "new_lr = 0.00001\n",
    "for param_group in criterion.param_groups:\n",
    "    param_group['lr'] = new_lr"
   ]
  },
  {
   "cell_type": "code",
   "execution_count": 154,
   "id": "ab60e9b0",
   "metadata": {},
   "outputs": [
    {
     "name": "stderr",
     "output_type": "stream",
     "text": [
      "100%|██████████| 219/219 [00:01<00:00, 123.64it/s]"
     ]
    },
    {
     "name": "stdout",
     "output_type": "stream",
     "text": [
      "F1 Score, None = [0.97307881 0.96521739 0.8987495  0.8969697  0.74418605 1.\n",
      " 0.78095238 0.63551402 0.97821351 0.86101695 0.66873065 0.75\n",
      " 0.70967742 0.82479784 0.830721   0.94035088 0.92658228 0.88888889\n",
      " 0.82666667 0.68548387 0.70967742 0.78787879 0.55555556 0.85714286\n",
      " 0.89208633 0.94949495 0.88983051 0.81898067 0.63636364 0.63636364]\n",
      "F1 Score, micro = 0.8829574650299744\n",
      "F1 Score, macro = 0.8173057380186568\n",
      "F1 Score, avg = 0.884641099040316\n",
      "Average TEST loss: 0.4318255803050244, TEST accuracy: 88.29718417047184%\n"
     ]
    },
    {
     "name": "stderr",
     "output_type": "stream",
     "text": [
      "\n"
     ]
    },
    {
     "data": {
      "text/plain": [
       "0.4318255803050244"
      ]
     },
     "execution_count": 154,
     "metadata": {},
     "output_type": "execute_result"
    }
   ],
   "source": [
    "from sklearn.metrics import f1_score\n",
    "def test_with_f1(model, iteratore, loss_f):\n",
    "    LABELS = list()\n",
    "    PREDICTIONS = list()\n",
    "    \n",
    "    \n",
    "    num_batches = len(iteratore)\n",
    "    test_loss = 0\n",
    "    accuracy = 0\n",
    "    model.eval()\n",
    "    with torch.no_grad():\n",
    "        for img, labels in tqdm(iteratore):\n",
    "            labels  = labels.type(torch.LongTensor)\n",
    "            img, labels = img.cuda(), labels.cuda()\n",
    "\n",
    "            pred = model(img)\n",
    "            test_loss += loss_f(pred, labels).item()\n",
    "            \n",
    "            \n",
    "            pred_indices = torch.argmax(pred, dim=1)\n",
    "            label_test = labels.cpu().float()\n",
    "            pred_indices = pred_indices.cpu().float()\n",
    "            distances = torch.where(pred_indices == label_test, torch.tensor(1), torch.tensor(0))\n",
    "            distances = distances.numpy()\n",
    "            accuracy += sum(distances)/len(label_test)\n",
    "            \n",
    "            PREDICTIONS += pred_indices.tolist()\n",
    "            LABELS += labels.tolist()\n",
    "            \n",
    "    print(f\"F1 Score, None = {f1_score(LABELS, PREDICTIONS, average=None)}\")\n",
    "    print(f\"F1 Score, micro = {f1_score(LABELS, PREDICTIONS, average='micro')}\")\n",
    "    print(f\"F1 Score, macro = {f1_score(LABELS, PREDICTIONS, average='macro')}\")\n",
    "    print(f\"F1 Score, avg = {f1_score(LABELS, PREDICTIONS, average='weighted')}\")\n",
    "            #for i in range(16):\n",
    "            #    y_preds.append(PREDICTIONS[i])\n",
    "            #    y_truths.append(LABELS[i])\n",
    "\n",
    "    test_loss = test_loss / num_batches\n",
    "    accuracy_tot = accuracy / num_batches\n",
    "    print(f\"Average TEST loss: {test_loss}, TEST accuracy: {accuracy_tot*100}%\")\n",
    "    return test_loss\n",
    "\n",
    "test_with_f1(model, val_loader, loss)"
   ]
  },
  {
   "cell_type": "code",
   "execution_count": 156,
   "id": "172e58f0",
   "metadata": {
    "scrolled": true
   },
   "outputs": [
    {
     "data": {
      "image/png": "[encoded data removed]",
      "text/plain": [
       "<Figure size 640x480 with 1 Axes>"
      ]
     },
     "metadata": {},
     "output_type": "display_data"
    }
   ],
   "source": [
    "    \n",
    "X = np.arange(len(train_losses))    \n",
    "Y = train_losses\n",
    "    \n",
    "    \n",
    "plt.plot(X, train_losses, label='TRAIN loss')\n",
    "plt.plot(X, test_losses, label='TEST loss')\n",
    "plt.legend()\n",
    "\n",
    "\n",
    "plt.savefig('model_losses_with_35k_images.png')\n",
    "plt.show()"
   ]
  }
 ],
 "metadata": {
  "kernelspec": {
   "display_name": "Python 3 (ipykernel)",
   "language": "python",
   "name": "python3"
  },
  "language_info": {
   "codemirror_mode": {
    "name": "ipython",
    "version": 3
   },
   "file_extension": ".py",
   "mimetype": "text/x-python",
   "name": "python",
   "nbconvert_exporter": "python",
   "pygments_lexer": "ipython3",
   "version": "3.10.8"
  }
 },
 "nbformat": 4,
 "nbformat_minor": 5
}
